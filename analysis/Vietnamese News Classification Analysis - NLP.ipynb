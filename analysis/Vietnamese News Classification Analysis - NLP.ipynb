{
  "cells": [
    {
      "cell_type": "markdown",
      "metadata": {
        "id": "foiDm1kFn0W0"
      },
      "source": [
        "# CÀI ĐẶT"
      ]
    },
    {
      "cell_type": "code",
      "execution_count": 24,
      "metadata": {
        "colab": {
          "base_uri": "https://localhost:8080/"
        },
        "id": "K_dgXJFFnYyl",
        "outputId": "8c9d644f-0983-4833-dadd-85988c9f6f93"
      },
      "outputs": [
        {
          "name": "stdout",
          "output_type": "stream",
          "text": [
            "Requirement already satisfied: pyvi in c:\\users\\hong mai\\appdata\\local\\programs\\python\\python311\\lib\\site-packages (0.1.1)\n",
            "Requirement already satisfied: scikit-learn in c:\\users\\hong mai\\appdata\\local\\programs\\python\\python311\\lib\\site-packages (from pyvi) (1.3.2)\n",
            "Requirement already satisfied: sklearn-crfsuite in c:\\users\\hong mai\\appdata\\local\\programs\\python\\python311\\lib\\site-packages (from pyvi) (0.3.6)\n",
            "Requirement already satisfied: numpy<2.0,>=1.17.3 in c:\\users\\hong mai\\appdata\\local\\programs\\python\\python311\\lib\\site-packages (from scikit-learn->pyvi) (1.26.2)\n",
            "Requirement already satisfied: scipy>=1.5.0 in c:\\users\\hong mai\\appdata\\local\\programs\\python\\python311\\lib\\site-packages (from scikit-learn->pyvi) (1.11.4)\n",
            "Requirement already satisfied: joblib>=1.1.1 in c:\\users\\hong mai\\appdata\\local\\programs\\python\\python311\\lib\\site-packages (from scikit-learn->pyvi) (1.3.2)\n",
            "Requirement already satisfied: threadpoolctl>=2.0.0 in c:\\users\\hong mai\\appdata\\local\\programs\\python\\python311\\lib\\site-packages (from scikit-learn->pyvi) (3.2.0)\n",
            "Requirement already satisfied: python-crfsuite>=0.8.3 in c:\\users\\hong mai\\appdata\\local\\programs\\python\\python311\\lib\\site-packages (from sklearn-crfsuite->pyvi) (0.9.10)\n",
            "Requirement already satisfied: six in c:\\users\\hong mai\\appdata\\roaming\\python\\python311\\site-packages (from sklearn-crfsuite->pyvi) (1.16.0)\n",
            "Requirement already satisfied: tabulate in c:\\users\\hong mai\\appdata\\local\\programs\\python\\python311\\lib\\site-packages (from sklearn-crfsuite->pyvi) (0.9.0)\n",
            "Requirement already satisfied: tqdm>=2.0 in c:\\users\\hong mai\\appdata\\local\\programs\\python\\python311\\lib\\site-packages (from sklearn-crfsuite->pyvi) (4.66.1)\n",
            "Requirement already satisfied: colorama in c:\\users\\hong mai\\appdata\\roaming\\python\\python311\\site-packages (from tqdm>=2.0->sklearn-crfsuite->pyvi) (0.4.6)\n",
            "Note: you may need to restart the kernel to use updated packages.\n"
          ]
        },
        {
          "name": "stderr",
          "output_type": "stream",
          "text": [
            "\n",
            "[notice] A new release of pip is available: 23.3.1 -> 23.3.2\n",
            "[notice] To update, run: python.exe -m pip install --upgrade pip\n"
          ]
        }
      ],
      "source": [
        "pip install pyvi"
      ]
    },
    {
      "cell_type": "code",
      "execution_count": 25,
      "metadata": {
        "id": "ifkozQGVndEw"
      },
      "outputs": [],
      "source": [
        "# DATA PROCESSING\n",
        "import numpy as np\n",
        "import pandas as pd\n",
        "from sklearn.model_selection import train_test_split\n",
        "import re\n",
        "import string\n",
        "\n",
        "# MACHINE LEARNING\n",
        "from sklearn.svm import SVC\n",
        "from sklearn.naive_bayes import GaussianNB\n",
        "from sklearn.tree import DecisionTreeClassifier\n",
        "from sklearn.ensemble import RandomForestClassifier\n",
        "\n",
        "# MAXENT\n",
        "from sklearn.linear_model import LogisticRegression\n",
        "from sklearn.feature_extraction.text import TfidfVectorizer\n",
        "from sklearn.feature_extraction import DictVectorizer\n",
        "\n",
        "# LSTM\n",
        "from sklearn.preprocessing import LabelEncoder\n",
        "import tensorflow as tf\n",
        "from tensorflow.keras.preprocessing.text import Tokenizer\n",
        "from tensorflow.keras.preprocessing.sequence import pad_sequences\n",
        "from tensorflow.keras.utils import to_categorical\n",
        "from tensorflow.keras.models import Sequential\n",
        "from tensorflow.keras.layers import Embedding, LSTM, Dense, Bidirectional\n",
        "from keras.optimizers import Adam, RMSprop, SGD\n",
        "from tensorflow.keras.models import load_model\n",
        "\n",
        "# TUNING\n",
        "from sklearn.model_selection import GridSearchCV\n",
        "from sklearn.metrics import accuracy_score, precision_score, recall_score, f1_score\n",
        "from pyvi import ViTokenizer\n",
        "import re\n",
        "from tensorflow.keras import backend as K\n",
        "\n",
        "# RESULTS\n",
        "from sklearn.metrics import accuracy_score, precision_score, classification_report\n",
        "from sklearn.metrics import confusion_matrix\n",
        "import matplotlib.pyplot as plt\n",
        "import seaborn as sns\n",
        "import time\n",
        "import psutil\n",
        "\n",
        "# OTHER\n",
        "import requests\n",
        "import warnings\n",
        "warnings.filterwarnings(\"ignore\")"
      ]
    },
    {
      "cell_type": "code",
      "execution_count": 26,
      "metadata": {
        "colab": {
          "base_uri": "https://localhost:8080/"
        },
        "id": "IFkeZQ98oQ5X",
        "outputId": "55d19d75-b6fb-4a8f-f216-77f6705e5caf"
      },
      "outputs": [],
      "source": [
        "# Tải bộ dữ liệu chưa qua xử lý\n",
        "# !gdown 1wOUJ-oPPstOFk9gcPl4wGvXSPSO2pc_0\n",
        "data = pd.read_excel(\"https://raw.githubusercontent.com/janettruong/Vietnamese-News-Classification---NLP-SEM5/main/data/vntoken.xlsx\")\n",
        "\n",
        "# Tải bộ stop word Tiếng Việt\n",
        "# !gdown 1NHM08W6U9xkf2ajuotD6QWQBBSvp5jj6"
      ]
    },
    {
      "cell_type": "code",
      "execution_count": 27,
      "metadata": {},
      "outputs": [
        {
          "data": {
            "text/html": [
              "<div>\n",
              "<style scoped>\n",
              "    .dataframe tbody tr th:only-of-type {\n",
              "        vertical-align: middle;\n",
              "    }\n",
              "\n",
              "    .dataframe tbody tr th {\n",
              "        vertical-align: top;\n",
              "    }\n",
              "\n",
              "    .dataframe thead th {\n",
              "        text-align: right;\n",
              "    }\n",
              "</style>\n",
              "<table border=\"1\" class=\"dataframe\">\n",
              "  <thead>\n",
              "    <tr style=\"text-align: right;\">\n",
              "      <th></th>\n",
              "      <th>URL</th>\n",
              "      <th>Title</th>\n",
              "      <th>Summary</th>\n",
              "      <th>Contents</th>\n",
              "      <th>Date</th>\n",
              "      <th>Author(s)</th>\n",
              "      <th>Category</th>\n",
              "      <th>Tags</th>\n",
              "    </tr>\n",
              "  </thead>\n",
              "  <tbody>\n",
              "    <tr>\n",
              "      <th>0</th>\n",
              "      <td>https://laodong.vn/ban-doc/cach-tham-gia-bao-h...</td>\n",
              "      <td>Cách tham gia Bảo hiểm xã hội tự nguyện sau kh...</td>\n",
              "      <td>Bảo hiểm xã hội Việt Nam thông tin về mức đóng...</td>\n",
              "      <td>Bạn đọc hỏi: Tôi mới đi làm và tham gia Bảo hi...</td>\n",
              "      <td>Thứ tư, 22/09/2021 10:00 (GMT+7)</td>\n",
              "      <td>ANH THƯ</td>\n",
              "      <td>Bạn đọc</td>\n",
              "      <td>['Bảo hiểm xã hội', 'Bảo hiểm xã hội Việt Nam'...</td>\n",
              "    </tr>\n",
              "    <tr>\n",
              "      <th>1</th>\n",
              "      <td>https://laodong.vn/ban-doc/quang-tri-cay-co-da...</td>\n",
              "      <td>Quảng Trị: Cây cọ dầu ở nơi có dự án của Vingr...</td>\n",
              "      <td>Quảng Trị - Ở địa điểm xây dựng khu đô thị thư...</td>\n",
              "      <td>Sau khi đấu giá trúng khu đất rộng 132.415,6 m...</td>\n",
              "      <td>Thứ tư, 09/03/2022 18:13 (GMT+7)</td>\n",
              "      <td>HƯNG THƠ</td>\n",
              "      <td>Bạn đọc</td>\n",
              "      <td>['Quảng Trị', 'Dự án Vingroup ở Quảng Trị', 'V...</td>\n",
              "    </tr>\n",
              "    <tr>\n",
              "      <th>2</th>\n",
              "      <td>https://laodong.vn/ban-doc/lao-cai-dan-khat-nu...</td>\n",
              "      <td>Lào Cai: Dân khát nước bên công trình nước sạc...</td>\n",
              "      <td>Lào Cai – Hàng trăm hộ dân vẫn phải dùng nước ...</td>\n",
              "      <td>Phản ánh đến PV, người dân xã Cam Đường, TP.Là...</td>\n",
              "      <td>Thứ tư, 11/05/2022 16:57 (GMT+7)</td>\n",
              "      <td>Văn Đức</td>\n",
              "      <td>Bạn đọc</td>\n",
              "      <td>['Lào Cai', 'Nước sạch', 'nhà máy nước sạch', ...</td>\n",
              "    </tr>\n",
              "    <tr>\n",
              "      <th>3</th>\n",
              "      <td>https://laodong.vn/ban-doc/quy-dinh-ve-viec-la...</td>\n",
              "      <td>Quy định về việc làm giám định sức khoẻ để ngh...</td>\n",
              "      <td>Bạn đọc Hà My hỏi: Tôi có làm giám định sức kh...</td>\n",
              "      <td>Về vấn đề trên, Bảo hiểm xã hội Việt Nam trả l...</td>\n",
              "      <td>Chủ nhật, 20/06/2021 20:16 (GMT+7)</td>\n",
              "      <td>Minh Hương</td>\n",
              "      <td>Bạn đọc</td>\n",
              "      <td>['Bảo hiểm xã hội', 'Luật Bảo hiểm xã hội', 'N...</td>\n",
              "    </tr>\n",
              "    <tr>\n",
              "      <th>4</th>\n",
              "      <td>https://laodong.vn/ban-doc/iphone-12-va-dang-c...</td>\n",
              "      <td>iPhone 12 và đẳng cấp “móc túi” người dùng của...</td>\n",
              "      <td>Âm thầm tăng giá bán nhưng lại giảm phụ kiện đ...</td>\n",
              "      <td>Nếu là iFan, hẳn các bạn còn nhớ, ngày 11.9.20...</td>\n",
              "      <td>Thứ năm, 15/10/2020 06:58 (GMT+7)</td>\n",
              "      <td>Đạt Phan</td>\n",
              "      <td>Bạn đọc</td>\n",
              "      <td>['Bảo vệ môi trường', 'Apple', 'Iphone', 'Appl...</td>\n",
              "    </tr>\n",
              "    <tr>\n",
              "      <th>...</th>\n",
              "      <td>...</td>\n",
              "      <td>...</td>\n",
              "      <td>...</td>\n",
              "      <td>...</td>\n",
              "      <td>...</td>\n",
              "      <td>...</td>\n",
              "      <td>...</td>\n",
              "      <td>...</td>\n",
              "    </tr>\n",
              "    <tr>\n",
              "      <th>38995</th>\n",
              "      <td>https://laodong.vn/moi-truong/nam-bo-nang-nong...</td>\n",
              "      <td>Nam Bộ nắng nóng diện rộng, chỉ số UV báo động đỏ</td>\n",
              "      <td>Trong ngày 7.3, TPHCM và các tỉnh, thành lân c...</td>\n",
              "      <td>Thông tin từ Đài Khí tượng thủy văn khu vực Na...</td>\n",
              "      <td>Chủ nhật, 07/03/2021 16:00 (GMT+7)</td>\n",
              "      <td>Hạ Mây</td>\n",
              "      <td>Xã hội</td>\n",
              "      <td>['Dự báo thời tiết', 'Thời tiết TPHCM', 'Thời ...</td>\n",
              "    </tr>\n",
              "    <tr>\n",
              "      <th>38996</th>\n",
              "      <td>https://laodong.vn/xa-hoi/du-bao-thoi-tiet-281...</td>\n",
              "      <td>Dự báo thời tiết 28.11: Nhiệt độ vọt tăng 3 độ...</td>\n",
              "      <td>Từ ngày 28.11, nhiệt độ tại Bắc Bộ và Trung Bộ...</td>\n",
              "      <td>Từ bản tin Dự báo thời tiết của Trung tâm Dự b...</td>\n",
              "      <td>Thứ ba, 28/11/2017 06:30 (GMT+7)</td>\n",
              "      <td>Kh.V</td>\n",
              "      <td>Xã hội</td>\n",
              "      <td>['Hà Nội', 'Dự báo thời tiết', 'Nhiệt độ', 'Th...</td>\n",
              "    </tr>\n",
              "    <tr>\n",
              "      <th>38997</th>\n",
              "      <td>https://laodong.vn/xa-hoi/dich-covid-19-cac-ki...</td>\n",
              "      <td>Dịch COVID-19: Các kịch bản dự báo thị trường ...</td>\n",
              "      <td>Trước diễn biến của dịch COVID-19, Bộ Lao động...</td>\n",
              "      <td>Nhu cầu tuyển dụng giảm Bộ Lao động, Thương bi...</td>\n",
              "      <td>Thứ sáu, 03/04/2020 11:00 (GMT+7)</td>\n",
              "      <td>Quỳnh Chi</td>\n",
              "      <td>Xã hội</td>\n",
              "      <td>['Dịch COVID-19']</td>\n",
              "    </tr>\n",
              "    <tr>\n",
              "      <th>38998</th>\n",
              "      <td>https://laodong.vn/xa-hoi/xac-minh-mot-fanpage...</td>\n",
              "      <td>Xác minh một fanpage tung tin thất thiệt Trấn ...</td>\n",
              "      <td>Cà Mau - Chiều ngày 24.3, lãnh đạo Sở Thông ti...</td>\n",
              "      <td>Lãnh đạo Sở Thông tin và Truyền thông tỉnh Cà ...</td>\n",
              "      <td>Thứ năm, 24/03/2022 16:47 (GMT+7)</td>\n",
              "      <td>NHẬT HỒ</td>\n",
              "      <td>Xã hội</td>\n",
              "      <td>['Cà Mau', 'Mạng xã hội', 'Trấn Thành']</td>\n",
              "    </tr>\n",
              "    <tr>\n",
              "      <th>38999</th>\n",
              "      <td>https://laodong.vn/xa-hoi/diem-moi-dang-chu-y-...</td>\n",
              "      <td>Điểm mới đáng chú ý trong công tác thanh tra t...</td>\n",
              "      <td>Bộ GDĐT vừa ban hành văn bản về việc hướng dẫn...</td>\n",
              "      <td>Theo văn bản hướng dẫn của Bộ GDĐT, trong kỳ t...</td>\n",
              "      <td>Thứ hai, 29/06/2020 20:48 (GMT+7)</td>\n",
              "      <td>Sương Mai</td>\n",
              "      <td>Xã hội</td>\n",
              "      <td>['Bộ GD ĐT', 'Thi tốt nghiệp THPT 2020', 'than...</td>\n",
              "    </tr>\n",
              "  </tbody>\n",
              "</table>\n",
              "<p>39000 rows × 8 columns</p>\n",
              "</div>"
            ],
            "text/plain": [
              "                                                     URL  \\\n",
              "0      https://laodong.vn/ban-doc/cach-tham-gia-bao-h...   \n",
              "1      https://laodong.vn/ban-doc/quang-tri-cay-co-da...   \n",
              "2      https://laodong.vn/ban-doc/lao-cai-dan-khat-nu...   \n",
              "3      https://laodong.vn/ban-doc/quy-dinh-ve-viec-la...   \n",
              "4      https://laodong.vn/ban-doc/iphone-12-va-dang-c...   \n",
              "...                                                  ...   \n",
              "38995  https://laodong.vn/moi-truong/nam-bo-nang-nong...   \n",
              "38996  https://laodong.vn/xa-hoi/du-bao-thoi-tiet-281...   \n",
              "38997  https://laodong.vn/xa-hoi/dich-covid-19-cac-ki...   \n",
              "38998  https://laodong.vn/xa-hoi/xac-minh-mot-fanpage...   \n",
              "38999  https://laodong.vn/xa-hoi/diem-moi-dang-chu-y-...   \n",
              "\n",
              "                                                   Title  \\\n",
              "0      Cách tham gia Bảo hiểm xã hội tự nguyện sau kh...   \n",
              "1      Quảng Trị: Cây cọ dầu ở nơi có dự án của Vingr...   \n",
              "2      Lào Cai: Dân khát nước bên công trình nước sạc...   \n",
              "3      Quy định về việc làm giám định sức khoẻ để ngh...   \n",
              "4      iPhone 12 và đẳng cấp “móc túi” người dùng của...   \n",
              "...                                                  ...   \n",
              "38995  Nam Bộ nắng nóng diện rộng, chỉ số UV báo động đỏ   \n",
              "38996  Dự báo thời tiết 28.11: Nhiệt độ vọt tăng 3 độ...   \n",
              "38997  Dịch COVID-19: Các kịch bản dự báo thị trường ...   \n",
              "38998  Xác minh một fanpage tung tin thất thiệt Trấn ...   \n",
              "38999  Điểm mới đáng chú ý trong công tác thanh tra t...   \n",
              "\n",
              "                                                 Summary  \\\n",
              "0      Bảo hiểm xã hội Việt Nam thông tin về mức đóng...   \n",
              "1      Quảng Trị - Ở địa điểm xây dựng khu đô thị thư...   \n",
              "2      Lào Cai – Hàng trăm hộ dân vẫn phải dùng nước ...   \n",
              "3      Bạn đọc Hà My hỏi: Tôi có làm giám định sức kh...   \n",
              "4      Âm thầm tăng giá bán nhưng lại giảm phụ kiện đ...   \n",
              "...                                                  ...   \n",
              "38995  Trong ngày 7.3, TPHCM và các tỉnh, thành lân c...   \n",
              "38996  Từ ngày 28.11, nhiệt độ tại Bắc Bộ và Trung Bộ...   \n",
              "38997  Trước diễn biến của dịch COVID-19, Bộ Lao động...   \n",
              "38998  Cà Mau - Chiều ngày 24.3, lãnh đạo Sở Thông ti...   \n",
              "38999  Bộ GDĐT vừa ban hành văn bản về việc hướng dẫn...   \n",
              "\n",
              "                                                Contents  \\\n",
              "0      Bạn đọc hỏi: Tôi mới đi làm và tham gia Bảo hi...   \n",
              "1      Sau khi đấu giá trúng khu đất rộng 132.415,6 m...   \n",
              "2      Phản ánh đến PV, người dân xã Cam Đường, TP.Là...   \n",
              "3      Về vấn đề trên, Bảo hiểm xã hội Việt Nam trả l...   \n",
              "4      Nếu là iFan, hẳn các bạn còn nhớ, ngày 11.9.20...   \n",
              "...                                                  ...   \n",
              "38995  Thông tin từ Đài Khí tượng thủy văn khu vực Na...   \n",
              "38996  Từ bản tin Dự báo thời tiết của Trung tâm Dự b...   \n",
              "38997  Nhu cầu tuyển dụng giảm Bộ Lao động, Thương bi...   \n",
              "38998  Lãnh đạo Sở Thông tin và Truyền thông tỉnh Cà ...   \n",
              "38999  Theo văn bản hướng dẫn của Bộ GDĐT, trong kỳ t...   \n",
              "\n",
              "                                     Date   Author(s) Category  \\\n",
              "0        Thứ tư, 22/09/2021 10:00 (GMT+7)     ANH THƯ  Bạn đọc   \n",
              "1        Thứ tư, 09/03/2022 18:13 (GMT+7)    HƯNG THƠ  Bạn đọc   \n",
              "2        Thứ tư, 11/05/2022 16:57 (GMT+7)     Văn Đức  Bạn đọc   \n",
              "3      Chủ nhật, 20/06/2021 20:16 (GMT+7)  Minh Hương  Bạn đọc   \n",
              "4       Thứ năm, 15/10/2020 06:58 (GMT+7)    Đạt Phan  Bạn đọc   \n",
              "...                                   ...         ...      ...   \n",
              "38995  Chủ nhật, 07/03/2021 16:00 (GMT+7)      Hạ Mây   Xã hội   \n",
              "38996    Thứ ba, 28/11/2017 06:30 (GMT+7)        Kh.V   Xã hội   \n",
              "38997   Thứ sáu, 03/04/2020 11:00 (GMT+7)   Quỳnh Chi   Xã hội   \n",
              "38998   Thứ năm, 24/03/2022 16:47 (GMT+7)     NHẬT HỒ   Xã hội   \n",
              "38999   Thứ hai, 29/06/2020 20:48 (GMT+7)   Sương Mai   Xã hội   \n",
              "\n",
              "                                                    Tags  \n",
              "0      ['Bảo hiểm xã hội', 'Bảo hiểm xã hội Việt Nam'...  \n",
              "1      ['Quảng Trị', 'Dự án Vingroup ở Quảng Trị', 'V...  \n",
              "2      ['Lào Cai', 'Nước sạch', 'nhà máy nước sạch', ...  \n",
              "3      ['Bảo hiểm xã hội', 'Luật Bảo hiểm xã hội', 'N...  \n",
              "4      ['Bảo vệ môi trường', 'Apple', 'Iphone', 'Appl...  \n",
              "...                                                  ...  \n",
              "38995  ['Dự báo thời tiết', 'Thời tiết TPHCM', 'Thời ...  \n",
              "38996  ['Hà Nội', 'Dự báo thời tiết', 'Nhiệt độ', 'Th...  \n",
              "38997                                  ['Dịch COVID-19']  \n",
              "38998            ['Cà Mau', 'Mạng xã hội', 'Trấn Thành']  \n",
              "38999  ['Bộ GD ĐT', 'Thi tốt nghiệp THPT 2020', 'than...  \n",
              "\n",
              "[39000 rows x 8 columns]"
            ]
          },
          "execution_count": 27,
          "metadata": {},
          "output_type": "execute_result"
        }
      ],
      "source": [
        "data"
      ]
    },
    {
      "cell_type": "markdown",
      "metadata": {
        "id": "G4jAWTTiL5lm"
      },
      "source": [
        "# TIỀN XỬ LÝ"
      ]
    },
    {
      "cell_type": "code",
      "execution_count": 28,
      "metadata": {
        "colab": {
          "base_uri": "https://localhost:8080/"
        },
        "id": "Q_rRowLPMR4o",
        "outputId": "ebaf8282-70df-40e7-eca9-6145d699c03d"
      },
      "outputs": [
        {
          "name": "stdout",
          "output_type": "stream",
          "text": [
            "Giá trị trùng lặp: 20687\n",
            "\n",
            "Giá trị bị thiếu:\n"
          ]
        },
        {
          "data": {
            "text/plain": [
              "URL             0\n",
              "Title           0\n",
              "Summary       587\n",
              "Contents     2039\n",
              "Date            0\n",
              "Author(s)     766\n",
              "Category        0\n",
              "Tags            0\n",
              "dtype: int64"
            ]
          },
          "execution_count": 28,
          "metadata": {},
          "output_type": "execute_result"
        }
      ],
      "source": [
        "# Kiểm tra các giá trị trùng lặp và các dòng bị thiếu dữ liệu\n",
        "print('Giá trị trùng lặp:',data.duplicated().sum())\n",
        "print(\"\\nGiá trị bị thiếu:\")\n",
        "data.isnull().sum()"
      ]
    },
    {
      "cell_type": "code",
      "execution_count": 29,
      "metadata": {
        "id": "hH6aIal7MU5X"
      },
      "outputs": [],
      "source": [
        "# Xoá các dòng chứa giá trị trùng lặp và các dòng bị thiếu dữ liệu\n",
        "data.drop_duplicates(inplace = True)\n",
        "data.dropna(inplace = True)\n",
        "data.reset_index(drop = True, inplace = True)"
      ]
    },
    {
      "cell_type": "code",
      "execution_count": 30,
      "metadata": {
        "colab": {
          "base_uri": "https://localhost:8080/"
        },
        "id": "g1vLcNaUMWVr",
        "outputId": "216de3de-476c-4210-c4a6-54382ac67596"
      },
      "outputs": [
        {
          "name": "stdout",
          "output_type": "stream",
          "text": [
            "\n",
            "Số lượng bài viết của từng thể loại:\n"
          ]
        },
        {
          "data": {
            "text/plain": [
              "Category\n",
              "Pháp luật                     985\n",
              "Thế giới                      975\n",
              "Kinh doanh                    966\n",
              "Thể thao                      965\n",
              "Xã hội                        964\n",
              "Sức khỏe                      952\n",
              "Công đoàn                     951\n",
              "Thời sự                       948\n",
              "Giáo dục                      945\n",
              "Văn hóa - Giải trí            941\n",
              "Media                         921\n",
              "Bạn đọc                       920\n",
              "Gia đình - Hôn nhân           873\n",
              "Bất động sản                  869\n",
              "Xe +                          826\n",
              "Tấm Lòng Vàng                 727\n",
              "Công nghệ                     582\n",
              "Lao Động cuối tuần            495\n",
              "Lưu trữ                       379\n",
              "Lao Động & Đời sống           319\n",
              "Diễn đàn                      278\n",
              "Tin hoạt động                 216\n",
              "Tin tức việc làm              166\n",
              "Thông tin tiện ích             96\n",
              "Sự kiện Bình luận              58\n",
              "Phóng sự                       47\n",
              "Tin địa phương                 31\n",
              "Quỹ TLV                        28\n",
              "Thông tin doanh nghiệp         15\n",
              "Tin bài xem thêm               13\n",
              "Du lịch                        11\n",
              "Sổ tay kinh tế                  7\n",
              "Phóng sự - Điều tra             2\n",
              "Người Việt tử tế                2\n",
              "Tin bài nổi bật                 1\n",
              "Tin bài liên quan               1\n",
              "Tản mạn - Chuyện dọc đường      1\n",
              "Video                           1\n",
              "Lao Động Xuân                   1\n",
              "Name: count, dtype: int64"
            ]
          },
          "execution_count": 30,
          "metadata": {},
          "output_type": "execute_result"
        }
      ],
      "source": [
        "print('\\nSố lượng bài viết của từng thể loại:')\n",
        "category_counts = data['Category'].value_counts()\n",
        "category_counts"
      ]
    },
    {
      "cell_type": "code",
      "execution_count": 31,
      "metadata": {
        "colab": {
          "base_uri": "https://localhost:8080/"
        },
        "id": "8IeENcqfMXel",
        "outputId": "3052f619-4f60-46bb-c710-7628cd50c599"
      },
      "outputs": [
        {
          "data": {
            "text/plain": [
              "Category\n",
              "Thời sự                1028\n",
              "Kinh doanh              988\n",
              "Pháp luật               985\n",
              "Thế giới                975\n",
              "Thể thao                965\n",
              "Xã hội                  964\n",
              "Sức khỏe                952\n",
              "Văn hóa - Giải trí      952\n",
              "Công đoàn               951\n",
              "Giáo dục                945\n",
              "Media                   922\n",
              "Bạn đọc                 921\n",
              "Gia đình - Hôn nhân     873\n",
              "Bất động sản            869\n",
              "Xe +                    826\n",
              "Lao Động & Đời sống     815\n",
              "Tấm Lòng Vàng           757\n",
              "Công nghệ               582\n",
              "Lưu trữ                 379\n",
              "Diễn đàn                278\n",
              "Tin hoạt động           216\n",
              "Tin tức việc làm        166\n",
              "Thông tin tiện ích       96\n",
              "Sự kiện Bình luận        58\n",
              "Tin bài xem thêm         13\n",
              "Tin bài liên quan         1\n",
              "Tin bài nổi bật           1\n",
              "Name: count, dtype: int64"
            ]
          },
          "execution_count": 31,
          "metadata": {},
          "output_type": "execute_result"
        }
      ],
      "source": [
        "category_mapping = {\n",
        "    'Lao Động Xuân': 'Lao Động & Đời sống',\n",
        "    'Video': 'Media',\n",
        "    'Tản mạn - Chuyện dọc đường': 'Bạn đọc',\n",
        "    'Phóng sự - Điều tra': 'Thời sự',\n",
        "    'Thông tin doanh nghiệp': 'Kinh doanh',\n",
        "    'Lao Động cuối tuần': 'Lao Động & Đời sống',\n",
        "    'Người Việt tử tế': 'Tấm Lòng Vàng',\n",
        "    'Sổ tay kinh tế': 'Kinh doanh',\n",
        "    'Quỹ TLV': 'Tấm Lòng Vàng',\n",
        "    'Tin địa phương': 'Thời sự',\n",
        "    'Du lịch': 'Văn hóa - Giải trí',\n",
        "    'Phóng sự': 'Thời sự'\n",
        "}\n",
        "\n",
        "\n",
        "# Áp dụng việc thay đổi nhãn\n",
        "data['Category'] = data['Category'].replace(category_mapping)\n",
        "data['Category'].value_counts()"
      ]
    },
    {
      "cell_type": "code",
      "execution_count": 32,
      "metadata": {
        "id": "YcE5UKn0MYWB"
      },
      "outputs": [],
      "source": [
        "data.drop(data[data['Category'] == 'Lưu trữ'].index,inplace= True)\n",
        "data.drop(data[data['Category'] == 'Tin hoạt động'].index,inplace= True)\n",
        "data.drop(data[data['Category'] == 'Diễn đàn'].index,inplace= True)\n",
        "data.drop(data[data['Category'] == 'Sự kiện Bình luận'].index,inplace= True)\n",
        "data.drop(data[data['Category'].isin(['Tin bài nổi bật','Tin bài liên quan','Tin bài xem thêm','Lao Động & Đời sống','Bạn đọc','Media','Công đoàn','Xã hội','Kinh doanh','Thời sự'])].index,inplace= True)\n",
        "data.reset_index(drop = True, inplace = True)"
      ]
    },
    {
      "cell_type": "code",
      "execution_count": 33,
      "metadata": {
        "colab": {
          "base_uri": "https://localhost:8080/"
        },
        "id": "HPeJnkbVMZG-",
        "outputId": "9afa5fd3-05ac-4d6e-a7bd-b3b21028377e"
      },
      "outputs": [
        {
          "name": "stdout",
          "output_type": "stream",
          "text": [
            "Số lượng thể loại có trong bộ dữ liệu: 13\n",
            "Số lượng bài viết của từng thể loại:\n"
          ]
        },
        {
          "data": {
            "text/plain": [
              "Category\n",
              "Pháp luật              985\n",
              "Thế giới               975\n",
              "Thể thao               965\n",
              "Văn hóa - Giải trí     952\n",
              "Sức khỏe               952\n",
              "Giáo dục               945\n",
              "Gia đình - Hôn nhân    873\n",
              "Bất động sản           869\n",
              "Xe +                   826\n",
              "Tấm Lòng Vàng          757\n",
              "Công nghệ              582\n",
              "Tin tức việc làm       166\n",
              "Thông tin tiện ích      96\n",
              "Name: count, dtype: int64"
            ]
          },
          "execution_count": 33,
          "metadata": {},
          "output_type": "execute_result"
        }
      ],
      "source": [
        "num_categories = data['Category'].nunique()\n",
        "print(f'Số lượng thể loại có trong bộ dữ liệu: {num_categories}')\n",
        "print('Số lượng bài viết của từng thể loại:')\n",
        "data['Category'].value_counts()"
      ]
    },
    {
      "cell_type": "code",
      "execution_count": 34,
      "metadata": {
        "colab": {
          "base_uri": "https://localhost:8080/",
          "height": 423
        },
        "id": "JvW-fh3mMaTs",
        "outputId": "6c3c76e9-05ab-409b-8435-1cb44e2a0ec4"
      },
      "outputs": [
        {
          "data": {
            "text/html": [
              "<div>\n",
              "<style scoped>\n",
              "    .dataframe tbody tr th:only-of-type {\n",
              "        vertical-align: middle;\n",
              "    }\n",
              "\n",
              "    .dataframe tbody tr th {\n",
              "        vertical-align: top;\n",
              "    }\n",
              "\n",
              "    .dataframe thead th {\n",
              "        text-align: right;\n",
              "    }\n",
              "</style>\n",
              "<table border=\"1\" class=\"dataframe\">\n",
              "  <thead>\n",
              "    <tr style=\"text-align: right;\">\n",
              "      <th></th>\n",
              "      <th>Category</th>\n",
              "      <th>Summary</th>\n",
              "    </tr>\n",
              "  </thead>\n",
              "  <tbody>\n",
              "    <tr>\n",
              "      <th>0</th>\n",
              "      <td>Bất động sản</td>\n",
              "      <td>Bước sang quý III.2019, giao dịch bất động sản...</td>\n",
              "    </tr>\n",
              "    <tr>\n",
              "      <th>1</th>\n",
              "      <td>Bất động sản</td>\n",
              "      <td>Tin tưởng vào việc hùn vốn với giám đốc công t...</td>\n",
              "    </tr>\n",
              "    <tr>\n",
              "      <th>2</th>\n",
              "      <td>Bất động sản</td>\n",
              "      <td>Chủ tịch UBND tỉnh Bắc Ninh vừa phê duyệt quy ...</td>\n",
              "    </tr>\n",
              "    <tr>\n",
              "      <th>3</th>\n",
              "      <td>Bất động sản</td>\n",
              "      <td>Chuyển đổi quyền sử dụng đất (đổi đất) chỉ áp ...</td>\n",
              "    </tr>\n",
              "    <tr>\n",
              "      <th>4</th>\n",
              "      <td>Bất động sản</td>\n",
              "      <td>Không ai phủ nhận ý nghĩa của Đề án giãn dân p...</td>\n",
              "    </tr>\n",
              "    <tr>\n",
              "      <th>...</th>\n",
              "      <td>...</td>\n",
              "      <td>...</td>\n",
              "    </tr>\n",
              "    <tr>\n",
              "      <th>9938</th>\n",
              "      <td>Xe +</td>\n",
              "      <td>Mới đây, trên mạng xã hội giao thông đăng tải ...</td>\n",
              "    </tr>\n",
              "    <tr>\n",
              "      <th>9939</th>\n",
              "      <td>Xe +</td>\n",
              "      <td>Theo thống kê của Uỷ ban ATGT Quốc gia, trong ...</td>\n",
              "    </tr>\n",
              "    <tr>\n",
              "      <th>9940</th>\n",
              "      <td>Xe +</td>\n",
              "      <td>Ca sĩ Lily Chen tậu xe Mercedes G63 AMG có giá...</td>\n",
              "    </tr>\n",
              "    <tr>\n",
              "      <th>9941</th>\n",
              "      <td>Xe +</td>\n",
              "      <td>Xe máy sau một thời gian vận hành, một số bộ p...</td>\n",
              "    </tr>\n",
              "    <tr>\n",
              "      <th>9942</th>\n",
              "      <td>Xe +</td>\n",
              "      <td>Xe hơi là phương tiện di chuyển tối ưu trong n...</td>\n",
              "    </tr>\n",
              "  </tbody>\n",
              "</table>\n",
              "<p>9943 rows × 2 columns</p>\n",
              "</div>"
            ],
            "text/plain": [
              "          Category                                            Summary\n",
              "0     Bất động sản  Bước sang quý III.2019, giao dịch bất động sản...\n",
              "1     Bất động sản  Tin tưởng vào việc hùn vốn với giám đốc công t...\n",
              "2     Bất động sản  Chủ tịch UBND tỉnh Bắc Ninh vừa phê duyệt quy ...\n",
              "3     Bất động sản  Chuyển đổi quyền sử dụng đất (đổi đất) chỉ áp ...\n",
              "4     Bất động sản  Không ai phủ nhận ý nghĩa của Đề án giãn dân p...\n",
              "...            ...                                                ...\n",
              "9938          Xe +  Mới đây, trên mạng xã hội giao thông đăng tải ...\n",
              "9939          Xe +  Theo thống kê của Uỷ ban ATGT Quốc gia, trong ...\n",
              "9940          Xe +  Ca sĩ Lily Chen tậu xe Mercedes G63 AMG có giá...\n",
              "9941          Xe +  Xe máy sau một thời gian vận hành, một số bộ p...\n",
              "9942          Xe +  Xe hơi là phương tiện di chuyển tối ưu trong n...\n",
              "\n",
              "[9943 rows x 2 columns]"
            ]
          },
          "execution_count": 34,
          "metadata": {},
          "output_type": "execute_result"
        }
      ],
      "source": [
        "data = data[['Category','Summary']]\n",
        "data"
      ]
    },
    {
      "cell_type": "code",
      "execution_count": 35,
      "metadata": {},
      "outputs": [],
      "source": [
        "def text_preprocessing(sent):\n",
        "    sent = str(sent)\n",
        "\n",
        "    # Download the Vietnamese stop words file from GitHub\n",
        "    stop_words_url = 'https://raw.githubusercontent.com/janettruong/Vietnamese-News-Classification---NLP-SEM5/main/data/vietnamese.txt'\n",
        "    stop_words_response = requests.get(stop_words_url)\n",
        "    stop_words = stop_words_response.text.split('\\n')\n",
        "\n",
        "    sent = re.sub(f'[{string.punctuation}\\d\\n]', '', sent)\n",
        "    sent = re.sub(r'[^\\w\\s]', '', sent)\n",
        "    sent = ViTokenizer.tokenize(sent.lower())\n",
        "    sent = [w for w in sent.split()]\n",
        "    sent = [w for w in sent if w not in stop_words]\n",
        "    return ' '.join(sent)\n"
      ]
    },
    {
      "cell_type": "code",
      "execution_count": 36,
      "metadata": {
        "colab": {
          "base_uri": "https://localhost:8080/",
          "height": 927
        },
        "id": "zZtsj36fMfDa",
        "outputId": "5e678c52-b5c9-4cbb-825d-264acf3a9e32"
      },
      "outputs": [
        {
          "data": {
            "text/html": [
              "<div>\n",
              "<style scoped>\n",
              "    .dataframe tbody tr th:only-of-type {\n",
              "        vertical-align: middle;\n",
              "    }\n",
              "\n",
              "    .dataframe tbody tr th {\n",
              "        vertical-align: top;\n",
              "    }\n",
              "\n",
              "    .dataframe thead th {\n",
              "        text-align: right;\n",
              "    }\n",
              "</style>\n",
              "<table border=\"1\" class=\"dataframe\">\n",
              "  <thead>\n",
              "    <tr style=\"text-align: right;\">\n",
              "      <th></th>\n",
              "      <th>Category</th>\n",
              "      <th>Summary</th>\n",
              "      <th>tokenized_contents</th>\n",
              "    </tr>\n",
              "  </thead>\n",
              "  <tbody>\n",
              "    <tr>\n",
              "      <th>0</th>\n",
              "      <td>Bất động sản</td>\n",
              "      <td>Bước sang quý III.2019, giao dịch bất động sản...</td>\n",
              "      <td>quý iii giao_dịch bất_động_sản thị_trường đà_n...</td>\n",
              "    </tr>\n",
              "    <tr>\n",
              "      <th>1</th>\n",
              "      <td>Bất động sản</td>\n",
              "      <td>Tin tưởng vào việc hùn vốn với giám đốc công t...</td>\n",
              "      <td>tin_tưởng hùn vốn giám_đốc công_ty bất_động_sả...</td>\n",
              "    </tr>\n",
              "    <tr>\n",
              "      <th>2</th>\n",
              "      <td>Bất động sản</td>\n",
              "      <td>Chủ tịch UBND tỉnh Bắc Ninh vừa phê duyệt quy ...</td>\n",
              "      <td>chủ_tịch ubnd tỉnh bắc ninh phê_duyệt quy_hoạc...</td>\n",
              "    </tr>\n",
              "    <tr>\n",
              "      <th>3</th>\n",
              "      <td>Bất động sản</td>\n",
              "      <td>Chuyển đổi quyền sử dụng đất (đổi đất) chỉ áp ...</td>\n",
              "      <td>chuyển_đổi quyền sử_dụng đất đổi đất áp_dụng đ...</td>\n",
              "    </tr>\n",
              "    <tr>\n",
              "      <th>4</th>\n",
              "      <td>Bất động sản</td>\n",
              "      <td>Không ai phủ nhận ý nghĩa của Đề án giãn dân p...</td>\n",
              "      <td>phủ_nhận ý_nghĩa đề_án giãn dân_phố cổ hà_nội ...</td>\n",
              "    </tr>\n",
              "    <tr>\n",
              "      <th>...</th>\n",
              "      <td>...</td>\n",
              "      <td>...</td>\n",
              "      <td>...</td>\n",
              "    </tr>\n",
              "    <tr>\n",
              "      <th>9938</th>\n",
              "      <td>Xe +</td>\n",
              "      <td>Mới đây, trên mạng xã hội giao thông đăng tải ...</td>\n",
              "      <td>mới_đây mạng xã_hội giao_thông đăng_tải clip b...</td>\n",
              "    </tr>\n",
              "    <tr>\n",
              "      <th>9939</th>\n",
              "      <td>Xe +</td>\n",
              "      <td>Theo thống kê của Uỷ ban ATGT Quốc gia, trong ...</td>\n",
              "      <td>thống_kê uỷ_ban atgt quốc_gia đầu toàn_quốc xả...</td>\n",
              "    </tr>\n",
              "    <tr>\n",
              "      <th>9940</th>\n",
              "      <td>Xe +</td>\n",
              "      <td>Ca sĩ Lily Chen tậu xe Mercedes G63 AMG có giá...</td>\n",
              "      <td>ca_sĩ lily chen tậu xe mercedes g amg có_giá l...</td>\n",
              "    </tr>\n",
              "    <tr>\n",
              "      <th>9941</th>\n",
              "      <td>Xe +</td>\n",
              "      <td>Xe máy sau một thời gian vận hành, một số bộ p...</td>\n",
              "      <td>xe_máy thời_gian vận_hành một_số bộ_phận rơ rã...</td>\n",
              "    </tr>\n",
              "    <tr>\n",
              "      <th>9942</th>\n",
              "      <td>Xe +</td>\n",
              "      <td>Xe hơi là phương tiện di chuyển tối ưu trong n...</td>\n",
              "      <td>xe_hơi phương_tiện di_chuyển tối_ưu nắng_nóng ...</td>\n",
              "    </tr>\n",
              "  </tbody>\n",
              "</table>\n",
              "<p>9943 rows × 3 columns</p>\n",
              "</div>"
            ],
            "text/plain": [
              "          Category                                            Summary  \\\n",
              "0     Bất động sản  Bước sang quý III.2019, giao dịch bất động sản...   \n",
              "1     Bất động sản  Tin tưởng vào việc hùn vốn với giám đốc công t...   \n",
              "2     Bất động sản  Chủ tịch UBND tỉnh Bắc Ninh vừa phê duyệt quy ...   \n",
              "3     Bất động sản  Chuyển đổi quyền sử dụng đất (đổi đất) chỉ áp ...   \n",
              "4     Bất động sản  Không ai phủ nhận ý nghĩa của Đề án giãn dân p...   \n",
              "...            ...                                                ...   \n",
              "9938          Xe +  Mới đây, trên mạng xã hội giao thông đăng tải ...   \n",
              "9939          Xe +  Theo thống kê của Uỷ ban ATGT Quốc gia, trong ...   \n",
              "9940          Xe +  Ca sĩ Lily Chen tậu xe Mercedes G63 AMG có giá...   \n",
              "9941          Xe +  Xe máy sau một thời gian vận hành, một số bộ p...   \n",
              "9942          Xe +  Xe hơi là phương tiện di chuyển tối ưu trong n...   \n",
              "\n",
              "                                     tokenized_contents  \n",
              "0     quý iii giao_dịch bất_động_sản thị_trường đà_n...  \n",
              "1     tin_tưởng hùn vốn giám_đốc công_ty bất_động_sả...  \n",
              "2     chủ_tịch ubnd tỉnh bắc ninh phê_duyệt quy_hoạc...  \n",
              "3     chuyển_đổi quyền sử_dụng đất đổi đất áp_dụng đ...  \n",
              "4     phủ_nhận ý_nghĩa đề_án giãn dân_phố cổ hà_nội ...  \n",
              "...                                                 ...  \n",
              "9938  mới_đây mạng xã_hội giao_thông đăng_tải clip b...  \n",
              "9939  thống_kê uỷ_ban atgt quốc_gia đầu toàn_quốc xả...  \n",
              "9940  ca_sĩ lily chen tậu xe mercedes g amg có_giá l...  \n",
              "9941  xe_máy thời_gian vận_hành một_số bộ_phận rơ rã...  \n",
              "9942  xe_hơi phương_tiện di_chuyển tối_ưu nắng_nóng ...  \n",
              "\n",
              "[9943 rows x 3 columns]"
            ]
          },
          "execution_count": 36,
          "metadata": {},
          "output_type": "execute_result"
        }
      ],
      "source": [
        "data['tokenized_contents'] = data['Summary'].apply(lambda x: text_preprocessing(x))\n",
        "data"
      ]
    },
    {
      "cell_type": "markdown",
      "metadata": {
        "id": "YJxPUo8tNXEs"
      },
      "source": [
        "# HYPERPARAMETER TUNING"
      ]
    },
    {
      "cell_type": "markdown",
      "metadata": {
        "id": "Q5wkWuGEUyp2"
      },
      "source": [
        "## 1. HỌC MÁY"
      ]
    },
    {
      "cell_type": "code",
      "execution_count": 37,
      "metadata": {
        "id": "00Io1UW8wIUK"
      },
      "outputs": [],
      "source": [
        "# Chia dữ liệu thành 80% train và 20% test\n",
        "X_train = data['tokenized_contents']\n",
        "y_train = data['Category']\n",
        "X_train, X_val, y_train, y_val = train_test_split(X_train, y_train, test_size=0.2, random_state=42)"
      ]
    },
    {
      "cell_type": "code",
      "execution_count": 38,
      "metadata": {
        "id": "QnR9StdA-asL"
      },
      "outputs": [],
      "source": [
        "# Một số mô hình cần vectorize dữ liệu văn bản\n",
        "tfidf_vectorizer = TfidfVectorizer()\n",
        "X_train_tfidf = tfidf_vectorizer.fit_transform(X_train)\n",
        "X_val_tfidf = tfidf_vectorizer.transform(X_val)"
      ]
    },
    {
      "cell_type": "markdown",
      "metadata": {
        "id": "eVwpQZN2OyOs"
      },
      "source": [
        "### SVC"
      ]
    },
    {
      "cell_type": "code",
      "execution_count": 39,
      "metadata": {
        "id": "ykyODeiYO1dN"
      },
      "outputs": [
        {
          "data": {
            "text/html": [
              "<style>#sk-container-id-1 {color: black;}#sk-container-id-1 pre{padding: 0;}#sk-container-id-1 div.sk-toggleable {background-color: white;}#sk-container-id-1 label.sk-toggleable__label {cursor: pointer;display: block;width: 100%;margin-bottom: 0;padding: 0.3em;box-sizing: border-box;text-align: center;}#sk-container-id-1 label.sk-toggleable__label-arrow:before {content: \"▸\";float: left;margin-right: 0.25em;color: #696969;}#sk-container-id-1 label.sk-toggleable__label-arrow:hover:before {color: black;}#sk-container-id-1 div.sk-estimator:hover label.sk-toggleable__label-arrow:before {color: black;}#sk-container-id-1 div.sk-toggleable__content {max-height: 0;max-width: 0;overflow: hidden;text-align: left;background-color: #f0f8ff;}#sk-container-id-1 div.sk-toggleable__content pre {margin: 0.2em;color: black;border-radius: 0.25em;background-color: #f0f8ff;}#sk-container-id-1 input.sk-toggleable__control:checked~div.sk-toggleable__content {max-height: 200px;max-width: 100%;overflow: auto;}#sk-container-id-1 input.sk-toggleable__control:checked~label.sk-toggleable__label-arrow:before {content: \"▾\";}#sk-container-id-1 div.sk-estimator input.sk-toggleable__control:checked~label.sk-toggleable__label {background-color: #d4ebff;}#sk-container-id-1 div.sk-label input.sk-toggleable__control:checked~label.sk-toggleable__label {background-color: #d4ebff;}#sk-container-id-1 input.sk-hidden--visually {border: 0;clip: rect(1px 1px 1px 1px);clip: rect(1px, 1px, 1px, 1px);height: 1px;margin: -1px;overflow: hidden;padding: 0;position: absolute;width: 1px;}#sk-container-id-1 div.sk-estimator {font-family: monospace;background-color: #f0f8ff;border: 1px dotted black;border-radius: 0.25em;box-sizing: border-box;margin-bottom: 0.5em;}#sk-container-id-1 div.sk-estimator:hover {background-color: #d4ebff;}#sk-container-id-1 div.sk-parallel-item::after {content: \"\";width: 100%;border-bottom: 1px solid gray;flex-grow: 1;}#sk-container-id-1 div.sk-label:hover label.sk-toggleable__label {background-color: #d4ebff;}#sk-container-id-1 div.sk-serial::before {content: \"\";position: absolute;border-left: 1px solid gray;box-sizing: border-box;top: 0;bottom: 0;left: 50%;z-index: 0;}#sk-container-id-1 div.sk-serial {display: flex;flex-direction: column;align-items: center;background-color: white;padding-right: 0.2em;padding-left: 0.2em;position: relative;}#sk-container-id-1 div.sk-item {position: relative;z-index: 1;}#sk-container-id-1 div.sk-parallel {display: flex;align-items: stretch;justify-content: center;background-color: white;position: relative;}#sk-container-id-1 div.sk-item::before, #sk-container-id-1 div.sk-parallel-item::before {content: \"\";position: absolute;border-left: 1px solid gray;box-sizing: border-box;top: 0;bottom: 0;left: 50%;z-index: -1;}#sk-container-id-1 div.sk-parallel-item {display: flex;flex-direction: column;z-index: 1;position: relative;background-color: white;}#sk-container-id-1 div.sk-parallel-item:first-child::after {align-self: flex-end;width: 50%;}#sk-container-id-1 div.sk-parallel-item:last-child::after {align-self: flex-start;width: 50%;}#sk-container-id-1 div.sk-parallel-item:only-child::after {width: 0;}#sk-container-id-1 div.sk-dashed-wrapped {border: 1px dashed gray;margin: 0 0.4em 0.5em 0.4em;box-sizing: border-box;padding-bottom: 0.4em;background-color: white;}#sk-container-id-1 div.sk-label label {font-family: monospace;font-weight: bold;display: inline-block;line-height: 1.2em;}#sk-container-id-1 div.sk-label-container {text-align: center;}#sk-container-id-1 div.sk-container {/* jupyter's `normalize.less` sets `[hidden] { display: none; }` but bootstrap.min.css set `[hidden] { display: none !important; }` so we also need the `!important` here to be able to override the default hidden behavior on the sphinx rendered scikit-learn.org. See: https://github.com/scikit-learn/scikit-learn/issues/21755 */display: inline-block !important;position: relative;}#sk-container-id-1 div.sk-text-repr-fallback {display: none;}</style><div id=\"sk-container-id-1\" class=\"sk-top-container\"><div class=\"sk-text-repr-fallback\"><pre>GridSearchCV(cv=5, estimator=SVC(),\n",
              "             param_grid={&#x27;C&#x27;: [0.1, 1, 10],\n",
              "                         &#x27;kernel&#x27;: [&#x27;linear&#x27;, &#x27;rbf&#x27;, &#x27;poly&#x27;, &#x27;sigmoid&#x27;]})</pre><b>In a Jupyter environment, please rerun this cell to show the HTML representation or trust the notebook. <br />On GitHub, the HTML representation is unable to render, please try loading this page with nbviewer.org.</b></div><div class=\"sk-container\" hidden><div class=\"sk-item sk-dashed-wrapped\"><div class=\"sk-label-container\"><div class=\"sk-label sk-toggleable\"><input class=\"sk-toggleable__control sk-hidden--visually\" id=\"sk-estimator-id-1\" type=\"checkbox\" ><label for=\"sk-estimator-id-1\" class=\"sk-toggleable__label sk-toggleable__label-arrow\">GridSearchCV</label><div class=\"sk-toggleable__content\"><pre>GridSearchCV(cv=5, estimator=SVC(),\n",
              "             param_grid={&#x27;C&#x27;: [0.1, 1, 10],\n",
              "                         &#x27;kernel&#x27;: [&#x27;linear&#x27;, &#x27;rbf&#x27;, &#x27;poly&#x27;, &#x27;sigmoid&#x27;]})</pre></div></div></div><div class=\"sk-parallel\"><div class=\"sk-parallel-item\"><div class=\"sk-item\"><div class=\"sk-label-container\"><div class=\"sk-label sk-toggleable\"><input class=\"sk-toggleable__control sk-hidden--visually\" id=\"sk-estimator-id-2\" type=\"checkbox\" ><label for=\"sk-estimator-id-2\" class=\"sk-toggleable__label sk-toggleable__label-arrow\">estimator: SVC</label><div class=\"sk-toggleable__content\"><pre>SVC()</pre></div></div></div><div class=\"sk-serial\"><div class=\"sk-item\"><div class=\"sk-estimator sk-toggleable\"><input class=\"sk-toggleable__control sk-hidden--visually\" id=\"sk-estimator-id-3\" type=\"checkbox\" ><label for=\"sk-estimator-id-3\" class=\"sk-toggleable__label sk-toggleable__label-arrow\">SVC</label><div class=\"sk-toggleable__content\"><pre>SVC()</pre></div></div></div></div></div></div></div></div></div></div>"
            ],
            "text/plain": [
              "GridSearchCV(cv=5, estimator=SVC(),\n",
              "             param_grid={'C': [0.1, 1, 10],\n",
              "                         'kernel': ['linear', 'rbf', 'poly', 'sigmoid']})"
            ]
          },
          "execution_count": 39,
          "metadata": {},
          "output_type": "execute_result"
        }
      ],
      "source": [
        "# Thiết lập grid của tham số\n",
        "param_grid_svm = {\n",
        "    'C': [0.1, 1, 10],\n",
        "    'kernel': ['linear', 'rbf','poly','sigmoid']\n",
        "}\n",
        "\n",
        "# Tạo mô hình và Grid Search\n",
        "grid_search_svm = GridSearchCV(SVC(), param_grid_svm, cv=5)\n",
        "grid_search_svm.fit(X_train_tfidf, y_train)"
      ]
    },
    {
      "cell_type": "code",
      "execution_count": 40,
      "metadata": {
        "id": "EutqN8AzNamD"
      },
      "outputs": [
        {
          "name": "stdout",
          "output_type": "stream",
          "text": [
            "{'C': 1, 'kernel': 'linear'}\n",
            "0.849382651629251\n",
            "Validation Accuracy: 0.8562091503267973\n",
            "Validation Precision: 0.8670965662527367\n",
            "Validation Recall: 0.8447173286460361\n",
            "Validation F1-Score: 0.8543050612777129\n"
          ]
        }
      ],
      "source": [
        "print(grid_search_svm.best_params_)\n",
        "print(grid_search_svm.best_score_)\n",
        "best_model = grid_search_svm.best_estimator_\n",
        "y_val_pred = best_model.predict(X_val_tfidf)\n",
        "\n",
        "# Đánh giá mô hình\n",
        "accuracy_val = accuracy_score(y_val, y_val_pred)\n",
        "precision_val = precision_score(y_val, y_val_pred, average='macro')\n",
        "recall_val = recall_score(y_val, y_val_pred, average='macro')\n",
        "f1_val = f1_score(y_val, y_val_pred, average='macro')\n",
        "\n",
        "print(\"Validation Accuracy:\", accuracy_val)\n",
        "print(\"Validation Precision:\", precision_val)\n",
        "print(\"Validation Recall:\", recall_val)\n",
        "print(\"Validation F1-Score:\", f1_val)"
      ]
    },
    {
      "cell_type": "markdown",
      "metadata": {
        "id": "5CjjP3tiQd4s"
      },
      "source": [
        "### GaussianNB"
      ]
    },
    {
      "cell_type": "code",
      "execution_count": 41,
      "metadata": {
        "id": "Qc56WXWAQffz"
      },
      "outputs": [
        {
          "ename": "ValueError",
          "evalue": "\nAll the 15 fits failed.\nIt is very likely that your model is misconfigured.\nYou can try to debug the error by setting error_score='raise'.\n\nBelow are more details about the failures:\n--------------------------------------------------------------------------------\n15 fits failed with the following error:\nTraceback (most recent call last):\n  File \"c:\\Users\\HONG MAI\\AppData\\Local\\Programs\\Python\\Python311\\Lib\\site-packages\\sklearn\\model_selection\\_validation.py\", line 729, in _fit_and_score\n    estimator.fit(X_train, y_train, **fit_params)\n  File \"c:\\Users\\HONG MAI\\AppData\\Local\\Programs\\Python\\Python311\\Lib\\site-packages\\sklearn\\base.py\", line 1152, in wrapper\n    return fit_method(estimator, *args, **kwargs)\n           ^^^^^^^^^^^^^^^^^^^^^^^^^^^^^^^^^^^^^^\n  File \"c:\\Users\\HONG MAI\\AppData\\Local\\Programs\\Python\\Python311\\Lib\\site-packages\\sklearn\\naive_bayes.py\", line 263, in fit\n    return self._partial_fit(\n           ^^^^^^^^^^^^^^^^^^\n  File \"c:\\Users\\HONG MAI\\AppData\\Local\\Programs\\Python\\Python311\\Lib\\site-packages\\sklearn\\naive_bayes.py\", line 423, in _partial_fit\n    X, y = self._validate_data(X, y, reset=first_call)\n           ^^^^^^^^^^^^^^^^^^^^^^^^^^^^^^^^^^^^^^^^^^^\n  File \"c:\\Users\\HONG MAI\\AppData\\Local\\Programs\\Python\\Python311\\Lib\\site-packages\\sklearn\\base.py\", line 622, in _validate_data\n    X, y = check_X_y(X, y, **check_params)\n           ^^^^^^^^^^^^^^^^^^^^^^^^^^^^^^^\n  File \"c:\\Users\\HONG MAI\\AppData\\Local\\Programs\\Python\\Python311\\Lib\\site-packages\\sklearn\\utils\\validation.py\", line 1146, in check_X_y\n    X = check_array(\n        ^^^^^^^^^^^^\n  File \"c:\\Users\\HONG MAI\\AppData\\Local\\Programs\\Python\\Python311\\Lib\\site-packages\\sklearn\\utils\\validation.py\", line 881, in check_array\n    array = _ensure_sparse_format(\n            ^^^^^^^^^^^^^^^^^^^^^^\n  File \"c:\\Users\\HONG MAI\\AppData\\Local\\Programs\\Python\\Python311\\Lib\\site-packages\\sklearn\\utils\\validation.py\", line 532, in _ensure_sparse_format\n    raise TypeError(\nTypeError: A sparse matrix was passed, but dense data is required. Use X.toarray() to convert to a dense numpy array.\n",
          "output_type": "error",
          "traceback": [
            "\u001b[1;31m---------------------------------------------------------------------------\u001b[0m",
            "\u001b[1;31mValueError\u001b[0m                                Traceback (most recent call last)",
            "Cell \u001b[1;32mIn[41], line 7\u001b[0m\n\u001b[0;32m      5\u001b[0m \u001b[38;5;66;03m# Tạo mô hình và Grid Search\u001b[39;00m\n\u001b[0;32m      6\u001b[0m grid_search_nb \u001b[38;5;241m=\u001b[39m GridSearchCV(GaussianNB(), param_grid_nb, cv\u001b[38;5;241m=\u001b[39m\u001b[38;5;241m5\u001b[39m)\n\u001b[1;32m----> 7\u001b[0m \u001b[43mgrid_search_nb\u001b[49m\u001b[38;5;241;43m.\u001b[39;49m\u001b[43mfit\u001b[49m\u001b[43m(\u001b[49m\u001b[43mX_train_tfidf\u001b[49m\u001b[43m,\u001b[49m\u001b[43m \u001b[49m\u001b[43my_train\u001b[49m\u001b[43m)\u001b[49m\n",
            "File \u001b[1;32mc:\\Users\\HONG MAI\\AppData\\Local\\Programs\\Python\\Python311\\Lib\\site-packages\\sklearn\\base.py:1152\u001b[0m, in \u001b[0;36m_fit_context.<locals>.decorator.<locals>.wrapper\u001b[1;34m(estimator, *args, **kwargs)\u001b[0m\n\u001b[0;32m   1145\u001b[0m     estimator\u001b[38;5;241m.\u001b[39m_validate_params()\n\u001b[0;32m   1147\u001b[0m \u001b[38;5;28;01mwith\u001b[39;00m config_context(\n\u001b[0;32m   1148\u001b[0m     skip_parameter_validation\u001b[38;5;241m=\u001b[39m(\n\u001b[0;32m   1149\u001b[0m         prefer_skip_nested_validation \u001b[38;5;129;01mor\u001b[39;00m global_skip_validation\n\u001b[0;32m   1150\u001b[0m     )\n\u001b[0;32m   1151\u001b[0m ):\n\u001b[1;32m-> 1152\u001b[0m     \u001b[38;5;28;01mreturn\u001b[39;00m \u001b[43mfit_method\u001b[49m\u001b[43m(\u001b[49m\u001b[43mestimator\u001b[49m\u001b[43m,\u001b[49m\u001b[43m \u001b[49m\u001b[38;5;241;43m*\u001b[39;49m\u001b[43margs\u001b[49m\u001b[43m,\u001b[49m\u001b[43m \u001b[49m\u001b[38;5;241;43m*\u001b[39;49m\u001b[38;5;241;43m*\u001b[39;49m\u001b[43mkwargs\u001b[49m\u001b[43m)\u001b[49m\n",
            "File \u001b[1;32mc:\\Users\\HONG MAI\\AppData\\Local\\Programs\\Python\\Python311\\Lib\\site-packages\\sklearn\\model_selection\\_search.py:898\u001b[0m, in \u001b[0;36mBaseSearchCV.fit\u001b[1;34m(self, X, y, groups, **fit_params)\u001b[0m\n\u001b[0;32m    892\u001b[0m     results \u001b[38;5;241m=\u001b[39m \u001b[38;5;28mself\u001b[39m\u001b[38;5;241m.\u001b[39m_format_results(\n\u001b[0;32m    893\u001b[0m         all_candidate_params, n_splits, all_out, all_more_results\n\u001b[0;32m    894\u001b[0m     )\n\u001b[0;32m    896\u001b[0m     \u001b[38;5;28;01mreturn\u001b[39;00m results\n\u001b[1;32m--> 898\u001b[0m \u001b[38;5;28;43mself\u001b[39;49m\u001b[38;5;241;43m.\u001b[39;49m\u001b[43m_run_search\u001b[49m\u001b[43m(\u001b[49m\u001b[43mevaluate_candidates\u001b[49m\u001b[43m)\u001b[49m\n\u001b[0;32m    900\u001b[0m \u001b[38;5;66;03m# multimetric is determined here because in the case of a callable\u001b[39;00m\n\u001b[0;32m    901\u001b[0m \u001b[38;5;66;03m# self.scoring the return type is only known after calling\u001b[39;00m\n\u001b[0;32m    902\u001b[0m first_test_score \u001b[38;5;241m=\u001b[39m all_out[\u001b[38;5;241m0\u001b[39m][\u001b[38;5;124m\"\u001b[39m\u001b[38;5;124mtest_scores\u001b[39m\u001b[38;5;124m\"\u001b[39m]\n",
            "File \u001b[1;32mc:\\Users\\HONG MAI\\AppData\\Local\\Programs\\Python\\Python311\\Lib\\site-packages\\sklearn\\model_selection\\_search.py:1422\u001b[0m, in \u001b[0;36mGridSearchCV._run_search\u001b[1;34m(self, evaluate_candidates)\u001b[0m\n\u001b[0;32m   1420\u001b[0m \u001b[38;5;28;01mdef\u001b[39;00m \u001b[38;5;21m_run_search\u001b[39m(\u001b[38;5;28mself\u001b[39m, evaluate_candidates):\n\u001b[0;32m   1421\u001b[0m \u001b[38;5;250m    \u001b[39m\u001b[38;5;124;03m\"\"\"Search all candidates in param_grid\"\"\"\u001b[39;00m\n\u001b[1;32m-> 1422\u001b[0m     \u001b[43mevaluate_candidates\u001b[49m\u001b[43m(\u001b[49m\u001b[43mParameterGrid\u001b[49m\u001b[43m(\u001b[49m\u001b[38;5;28;43mself\u001b[39;49m\u001b[38;5;241;43m.\u001b[39;49m\u001b[43mparam_grid\u001b[49m\u001b[43m)\u001b[49m\u001b[43m)\u001b[49m\n",
            "File \u001b[1;32mc:\\Users\\HONG MAI\\AppData\\Local\\Programs\\Python\\Python311\\Lib\\site-packages\\sklearn\\model_selection\\_search.py:875\u001b[0m, in \u001b[0;36mBaseSearchCV.fit.<locals>.evaluate_candidates\u001b[1;34m(candidate_params, cv, more_results)\u001b[0m\n\u001b[0;32m    868\u001b[0m \u001b[38;5;28;01melif\u001b[39;00m \u001b[38;5;28mlen\u001b[39m(out) \u001b[38;5;241m!=\u001b[39m n_candidates \u001b[38;5;241m*\u001b[39m n_splits:\n\u001b[0;32m    869\u001b[0m     \u001b[38;5;28;01mraise\u001b[39;00m \u001b[38;5;167;01mValueError\u001b[39;00m(\n\u001b[0;32m    870\u001b[0m         \u001b[38;5;124m\"\u001b[39m\u001b[38;5;124mcv.split and cv.get_n_splits returned \u001b[39m\u001b[38;5;124m\"\u001b[39m\n\u001b[0;32m    871\u001b[0m         \u001b[38;5;124m\"\u001b[39m\u001b[38;5;124minconsistent results. Expected \u001b[39m\u001b[38;5;132;01m{}\u001b[39;00m\u001b[38;5;124m \u001b[39m\u001b[38;5;124m\"\u001b[39m\n\u001b[0;32m    872\u001b[0m         \u001b[38;5;124m\"\u001b[39m\u001b[38;5;124msplits, got \u001b[39m\u001b[38;5;132;01m{}\u001b[39;00m\u001b[38;5;124m\"\u001b[39m\u001b[38;5;241m.\u001b[39mformat(n_splits, \u001b[38;5;28mlen\u001b[39m(out) \u001b[38;5;241m/\u001b[39m\u001b[38;5;241m/\u001b[39m n_candidates)\n\u001b[0;32m    873\u001b[0m     )\n\u001b[1;32m--> 875\u001b[0m \u001b[43m_warn_or_raise_about_fit_failures\u001b[49m\u001b[43m(\u001b[49m\u001b[43mout\u001b[49m\u001b[43m,\u001b[49m\u001b[43m \u001b[49m\u001b[38;5;28;43mself\u001b[39;49m\u001b[38;5;241;43m.\u001b[39;49m\u001b[43merror_score\u001b[49m\u001b[43m)\u001b[49m\n\u001b[0;32m    877\u001b[0m \u001b[38;5;66;03m# For callable self.scoring, the return type is only know after\u001b[39;00m\n\u001b[0;32m    878\u001b[0m \u001b[38;5;66;03m# calling. If the return type is a dictionary, the error scores\u001b[39;00m\n\u001b[0;32m    879\u001b[0m \u001b[38;5;66;03m# can now be inserted with the correct key. The type checking\u001b[39;00m\n\u001b[0;32m    880\u001b[0m \u001b[38;5;66;03m# of out will be done in `_insert_error_scores`.\u001b[39;00m\n\u001b[0;32m    881\u001b[0m \u001b[38;5;28;01mif\u001b[39;00m \u001b[38;5;28mcallable\u001b[39m(\u001b[38;5;28mself\u001b[39m\u001b[38;5;241m.\u001b[39mscoring):\n",
            "File \u001b[1;32mc:\\Users\\HONG MAI\\AppData\\Local\\Programs\\Python\\Python311\\Lib\\site-packages\\sklearn\\model_selection\\_validation.py:414\u001b[0m, in \u001b[0;36m_warn_or_raise_about_fit_failures\u001b[1;34m(results, error_score)\u001b[0m\n\u001b[0;32m    407\u001b[0m \u001b[38;5;28;01mif\u001b[39;00m num_failed_fits \u001b[38;5;241m==\u001b[39m num_fits:\n\u001b[0;32m    408\u001b[0m     all_fits_failed_message \u001b[38;5;241m=\u001b[39m (\n\u001b[0;32m    409\u001b[0m         \u001b[38;5;124mf\u001b[39m\u001b[38;5;124m\"\u001b[39m\u001b[38;5;130;01m\\n\u001b[39;00m\u001b[38;5;124mAll the \u001b[39m\u001b[38;5;132;01m{\u001b[39;00mnum_fits\u001b[38;5;132;01m}\u001b[39;00m\u001b[38;5;124m fits failed.\u001b[39m\u001b[38;5;130;01m\\n\u001b[39;00m\u001b[38;5;124m\"\u001b[39m\n\u001b[0;32m    410\u001b[0m         \u001b[38;5;124m\"\u001b[39m\u001b[38;5;124mIt is very likely that your model is misconfigured.\u001b[39m\u001b[38;5;130;01m\\n\u001b[39;00m\u001b[38;5;124m\"\u001b[39m\n\u001b[0;32m    411\u001b[0m         \u001b[38;5;124m\"\u001b[39m\u001b[38;5;124mYou can try to debug the error by setting error_score=\u001b[39m\u001b[38;5;124m'\u001b[39m\u001b[38;5;124mraise\u001b[39m\u001b[38;5;124m'\u001b[39m\u001b[38;5;124m.\u001b[39m\u001b[38;5;130;01m\\n\u001b[39;00m\u001b[38;5;130;01m\\n\u001b[39;00m\u001b[38;5;124m\"\u001b[39m\n\u001b[0;32m    412\u001b[0m         \u001b[38;5;124mf\u001b[39m\u001b[38;5;124m\"\u001b[39m\u001b[38;5;124mBelow are more details about the failures:\u001b[39m\u001b[38;5;130;01m\\n\u001b[39;00m\u001b[38;5;132;01m{\u001b[39;00mfit_errors_summary\u001b[38;5;132;01m}\u001b[39;00m\u001b[38;5;124m\"\u001b[39m\n\u001b[0;32m    413\u001b[0m     )\n\u001b[1;32m--> 414\u001b[0m     \u001b[38;5;28;01mraise\u001b[39;00m \u001b[38;5;167;01mValueError\u001b[39;00m(all_fits_failed_message)\n\u001b[0;32m    416\u001b[0m \u001b[38;5;28;01melse\u001b[39;00m:\n\u001b[0;32m    417\u001b[0m     some_fits_failed_message \u001b[38;5;241m=\u001b[39m (\n\u001b[0;32m    418\u001b[0m         \u001b[38;5;124mf\u001b[39m\u001b[38;5;124m\"\u001b[39m\u001b[38;5;130;01m\\n\u001b[39;00m\u001b[38;5;132;01m{\u001b[39;00mnum_failed_fits\u001b[38;5;132;01m}\u001b[39;00m\u001b[38;5;124m fits failed out of a total of \u001b[39m\u001b[38;5;132;01m{\u001b[39;00mnum_fits\u001b[38;5;132;01m}\u001b[39;00m\u001b[38;5;124m.\u001b[39m\u001b[38;5;130;01m\\n\u001b[39;00m\u001b[38;5;124m\"\u001b[39m\n\u001b[0;32m    419\u001b[0m         \u001b[38;5;124m\"\u001b[39m\u001b[38;5;124mThe score on these train-test partitions for these parameters\u001b[39m\u001b[38;5;124m\"\u001b[39m\n\u001b[1;32m   (...)\u001b[0m\n\u001b[0;32m    423\u001b[0m         \u001b[38;5;124mf\u001b[39m\u001b[38;5;124m\"\u001b[39m\u001b[38;5;124mBelow are more details about the failures:\u001b[39m\u001b[38;5;130;01m\\n\u001b[39;00m\u001b[38;5;132;01m{\u001b[39;00mfit_errors_summary\u001b[38;5;132;01m}\u001b[39;00m\u001b[38;5;124m\"\u001b[39m\n\u001b[0;32m    424\u001b[0m     )\n",
            "\u001b[1;31mValueError\u001b[0m: \nAll the 15 fits failed.\nIt is very likely that your model is misconfigured.\nYou can try to debug the error by setting error_score='raise'.\n\nBelow are more details about the failures:\n--------------------------------------------------------------------------------\n15 fits failed with the following error:\nTraceback (most recent call last):\n  File \"c:\\Users\\HONG MAI\\AppData\\Local\\Programs\\Python\\Python311\\Lib\\site-packages\\sklearn\\model_selection\\_validation.py\", line 729, in _fit_and_score\n    estimator.fit(X_train, y_train, **fit_params)\n  File \"c:\\Users\\HONG MAI\\AppData\\Local\\Programs\\Python\\Python311\\Lib\\site-packages\\sklearn\\base.py\", line 1152, in wrapper\n    return fit_method(estimator, *args, **kwargs)\n           ^^^^^^^^^^^^^^^^^^^^^^^^^^^^^^^^^^^^^^\n  File \"c:\\Users\\HONG MAI\\AppData\\Local\\Programs\\Python\\Python311\\Lib\\site-packages\\sklearn\\naive_bayes.py\", line 263, in fit\n    return self._partial_fit(\n           ^^^^^^^^^^^^^^^^^^\n  File \"c:\\Users\\HONG MAI\\AppData\\Local\\Programs\\Python\\Python311\\Lib\\site-packages\\sklearn\\naive_bayes.py\", line 423, in _partial_fit\n    X, y = self._validate_data(X, y, reset=first_call)\n           ^^^^^^^^^^^^^^^^^^^^^^^^^^^^^^^^^^^^^^^^^^^\n  File \"c:\\Users\\HONG MAI\\AppData\\Local\\Programs\\Python\\Python311\\Lib\\site-packages\\sklearn\\base.py\", line 622, in _validate_data\n    X, y = check_X_y(X, y, **check_params)\n           ^^^^^^^^^^^^^^^^^^^^^^^^^^^^^^^\n  File \"c:\\Users\\HONG MAI\\AppData\\Local\\Programs\\Python\\Python311\\Lib\\site-packages\\sklearn\\utils\\validation.py\", line 1146, in check_X_y\n    X = check_array(\n        ^^^^^^^^^^^^\n  File \"c:\\Users\\HONG MAI\\AppData\\Local\\Programs\\Python\\Python311\\Lib\\site-packages\\sklearn\\utils\\validation.py\", line 881, in check_array\n    array = _ensure_sparse_format(\n            ^^^^^^^^^^^^^^^^^^^^^^\n  File \"c:\\Users\\HONG MAI\\AppData\\Local\\Programs\\Python\\Python311\\Lib\\site-packages\\sklearn\\utils\\validation.py\", line 532, in _ensure_sparse_format\n    raise TypeError(\nTypeError: A sparse matrix was passed, but dense data is required. Use X.toarray() to convert to a dense numpy array.\n"
          ]
        }
      ],
      "source": [
        "param_grid_nb = {\n",
        "    'var_smoothing': [1e-9, 1e-8, 1e-7]\n",
        "}\n",
        "\n",
        "# Tạo mô hình và Grid Search\n",
        "grid_search_nb = GridSearchCV(GaussianNB(), param_grid_nb, cv=5)\n",
        "grid_search_nb.fit(X_train_tfidf, y_train)"
      ]
    },
    {
      "cell_type": "code",
      "execution_count": null,
      "metadata": {
        "id": "d_LnBESYQgug"
      },
      "outputs": [],
      "source": [
        "print(grid_search_nb.best_params_)\n",
        "print(grid_search_nb.best_score_)\n",
        "best_model_nb = grid_search_nb.best_estimator_\n",
        "y_val_pred = best_model_nb.predict(X_val_tfidf)\n",
        "\n",
        "# Đánh giá mô hình\n",
        "accuracy_val = accuracy_score(y_val, y_val_pred)\n",
        "precision_val = precision_score(y_val, y_val_pred, average='macro')\n",
        "recall_val = recall_score(y_val, y_val_pred, average='macro')\n",
        "f1_val = f1_score(y_val, y_val_pred, average='macro')\n",
        "\n",
        "print(\"Validation Accuracy:\", accuracy_val)\n",
        "print(\"Validation Precision:\", precision_val)\n",
        "print(\"Validation Recall:\", recall_val)\n",
        "print(\"Validation F1-Score:\", f1_val)"
      ]
    },
    {
      "cell_type": "markdown",
      "metadata": {
        "id": "cTWCLK6zQl6X"
      },
      "source": [
        "### Decision Tree"
      ]
    },
    {
      "cell_type": "code",
      "execution_count": null,
      "metadata": {
        "id": "OE-SHN4qQnpO"
      },
      "outputs": [],
      "source": [
        "param_grid_dt = {\n",
        "    'criterion': ['gini', 'entropy'],  # Tiêu chuẩn chia tách\n",
        "    'max_depth': [10, 20, 30],         # Độ sâu tối đa của cây\n",
        "    'min_samples_split': [2, 4, 6],    # Số lượng mẫu tối thiểu để tách một nút\n",
        "    'min_samples_leaf': [1, 2, 4]      # Số lượng mẫu tối thiểu ở mỗi lá cây\n",
        "}\n",
        "\n",
        "# Tạo đối tượng GridSearchCV\n",
        "grid_search_dt = GridSearchCV(estimator=DecisionTreeClassifier(), param_grid=param_grid_dt, cv=5)\n",
        "grid_search_dt.fit(X_train_tfidf, y_train)"
      ]
    },
    {
      "cell_type": "code",
      "execution_count": null,
      "metadata": {
        "id": "BB5BDA2JQraL"
      },
      "outputs": [],
      "source": [
        "print(grid_search_dt.best_params_)\n",
        "print(grid_search_dt.best_score_)\n",
        "best_model_dt = grid_search_dt.best_estimator_\n",
        "y_val_pred = best_model_dt.predict(X_val_tfidf)\n",
        "\n",
        "# Đánh giá mô hình\n",
        "accuracy_val = accuracy_score(y_val, y_val_pred)\n",
        "precision_val = precision_score(y_val, y_val_pred, average='macro')\n",
        "recall_val = recall_score(y_val, y_val_pred, average='macro')\n",
        "f1_val = f1_score(y_val, y_val_pred, average='macro')\n",
        "\n",
        "print(\"Validation Accuracy:\", accuracy_val)\n",
        "print(\"Validation Precision:\", precision_val)\n",
        "print(\"Validation Recall:\", recall_val)\n",
        "print(\"Validation F1-Score:\", f1_val)"
      ]
    },
    {
      "cell_type": "markdown",
      "metadata": {
        "id": "_rpc2BhtQuBd"
      },
      "source": [
        "### Random Forest"
      ]
    },
    {
      "cell_type": "code",
      "execution_count": null,
      "metadata": {
        "id": "qCgO1-fcQv4_"
      },
      "outputs": [],
      "source": [
        "param_grid = {\n",
        "    'n_estimators': [50, 100, 150],  # Số lượng cây\n",
        "    'max_depth': [10, 20, 30],       # Độ sâu tối đa của mỗi cây\n",
        "    'min_samples_split': [2, 4, 6],  # Số lượng mẫu tối thiểu để tách một nút\n",
        "    'min_samples_leaf': [1, 2, 4]    # Số lượng mẫu tối thiểu ở mỗi lá cây\n",
        "}\n",
        "\n",
        "# Tạo đối tượng GridSearchCV\n",
        "grid_search = GridSearchCV(estimator=RandomForestClassifier(), param_grid=param_grid, cv=5, n_jobs=-1, verbose=2)\n",
        "\n",
        "# Huấn luyện sử dụng Grid Search\n",
        "grid_search.fit(X_train_tfidf, y_train)"
      ]
    },
    {
      "cell_type": "code",
      "execution_count": null,
      "metadata": {
        "id": "f9Fvj_81Qw9D"
      },
      "outputs": [],
      "source": [
        "print(grid_search.best_params_)\n",
        "print(grid_search.best_score_)\n",
        "best_model = grid_search.best_estimator_\n",
        "y_val_pred = best_model.predict(X_val_tfidf)\n",
        "\n",
        "# Đánh giá mô hình\n",
        "accuracy_val = accuracy_score(y_val, y_val_pred)\n",
        "precision_val = precision_score(y_val, y_val_pred, average='macro')\n",
        "recall_val = recall_score(y_val, y_val_pred, average='macro')\n",
        "f1_val = f1_score(y_val, y_val_pred, average='macro')\n",
        "\n",
        "print(\"Validation Accuracy:\", accuracy_val)\n",
        "print(\"Validation Precision:\", precision_val)\n",
        "print(\"Validation Recall:\", recall_val)\n",
        "print(\"Validation F1-Score:\", f1_val)"
      ]
    },
    {
      "cell_type": "markdown",
      "metadata": {
        "id": "KBRI44K5U0x_"
      },
      "source": [
        "## 2. MAXENT"
      ]
    },
    {
      "cell_type": "markdown",
      "metadata": {
        "id": "2EOeAPDZVle6"
      },
      "source": [
        "### L1 & L2"
      ]
    },
    {
      "cell_type": "code",
      "execution_count": null,
      "metadata": {
        "id": "fn8NGSJCU4S2"
      },
      "outputs": [],
      "source": [
        "from sklearn.model_selection import train_test_split\n",
        "from sklearn.linear_model import LogisticRegression\n",
        "from sklearn.feature_extraction import DictVectorizer\n",
        "from sklearn.metrics import accuracy_score, precision_score, classification_report\n",
        "\n",
        "class MaxEntClassifier:\n",
        "    def __init__(self):\n",
        "        self.model = None\n",
        "        self.vectorizer = DictVectorizer()\n",
        "\n",
        "    def train(self, X_train, y_train, hyperparameter_grid=None):\n",
        "        X_train = [self._extract_features(x) for x in X_train]\n",
        "        X_train = self.vectorizer.fit_transform(X_train)\n",
        "\n",
        "        # Hyperparameter Grid\n",
        "        if hyperparameter_grid is None:\n",
        "            hyperparameter_grid = {\n",
        "                'C': [0.1, 1.0, 10.0],\n",
        "                # Còn một loại penalty đó nữa là elastic net, nhưng sẽ code thủ công vì phải set l1_ratio\n",
        "                'penalty': ['l1', 'l2'],\n",
        "                'solver': ['lbfgs', 'liblinear']\n",
        "            }\n",
        "\n",
        "        logistic_regression = LogisticRegression(multi_class='auto')\n",
        "        grid_search = GridSearchCV(logistic_regression, hyperparameter_grid, cv=3, n_jobs=-1)\n",
        "        grid_search.fit(X_train, y_train)\n",
        "\n",
        "        # In kết quả cho mỗi lần chạy\n",
        "        results_df = pd.DataFrame(grid_search.cv_results_)\n",
        "        print(\"Results for Each Hyperparameter Combination:\")\n",
        "        print(results_df[['mean_fit_time','params', 'mean_test_score', 'std_test_score']])\n",
        "\n",
        "        self.model = grid_search.best_estimator_\n",
        "\n",
        "    def predict(self, X_test):\n",
        "        X_test = [self._extract_features(x) for x in X_test]\n",
        "        X_test = self.vectorizer.transform(X_test)\n",
        "        return self.model.predict(X_test)\n",
        "\n",
        "    def evaluate(self, X, y, set_name):\n",
        "        X = [self._extract_features(x) for x in X]\n",
        "        X = self.vectorizer.transform(X)\n",
        "        predictions = self.model.predict(X)\n",
        "\n",
        "        accuracy = accuracy_score(y, predictions)\n",
        "        precision = precision_score(y, predictions, average='weighted')\n",
        "\n",
        "        print(f\"{set_name} Set Metrics:\")\n",
        "        print(\"Accuracy:\", accuracy)\n",
        "        print(\"Precision:\", precision)\n",
        "        print(\"Classification Report:\")\n",
        "        print(classification_report(y, predictions))\n",
        "\n",
        "    def _extract_features(self, sentence):\n",
        "        features = {}\n",
        "        for i, token in enumerate(sentence.split()):\n",
        "            features[f'word_{i}'] = token\n",
        "        return features\n",
        "\n",
        "# Tạo classifier\n",
        "maxent_classifier = MaxEntClassifier()\n",
        "\n",
        "# Train với hyperparameter tuning\n",
        "hyperparameter_grid = {\n",
        "    'C': [0.1, 1.0, 10.0],\n",
        "    'penalty': ['l1', 'l2'],\n",
        "    'solver': ['lbfgs', 'liblinear']\n",
        "}\n",
        "\n",
        "maxent_classifier.train(X_train, y_train, hyperparameter_grid=hyperparameter_grid)\n",
        "\n",
        "# In parameter tốt nhất\n",
        "best_params = maxent_classifier.model.get_params()\n",
        "print(\"Best Hyperparameters:\", best_params)\n",
        "\n",
        "# Đánh giá trên tập train\n",
        "maxent_classifier.evaluate(X_train, y_train, set_name='Training')\n",
        "\n",
        "# Đánh giá trên tập test\n",
        "maxent_classifier.evaluate(X_val, y_val, set_name='Validation')"
      ]
    },
    {
      "cell_type": "markdown",
      "metadata": {
        "id": "dr3-LcwIVpAZ"
      },
      "source": [
        "### L1 + L2"
      ]
    },
    {
      "cell_type": "code",
      "execution_count": null,
      "metadata": {
        "id": "xQKlfd9mVqNh"
      },
      "outputs": [],
      "source": [
        "from sklearn.model_selection import GridSearchCV\n",
        "from sklearn.linear_model import LogisticRegression\n",
        "from sklearn.feature_extraction import DictVectorizer\n",
        "from sklearn.metrics import accuracy_score, precision_score, classification_report\n",
        "\n",
        "class MaxEntClassifier:\n",
        "    def __init__(self):\n",
        "        self.model = None\n",
        "        self.vectorizer = DictVectorizer()\n",
        "\n",
        "    def train(self, X_train, y_train, hyperparameter_grid=None):\n",
        "        X_train = [self._extract_features(x) for x in X_train]\n",
        "        X_train = self.vectorizer.fit_transform(X_train)\n",
        "\n",
        "        # Hyperparameter Grid\n",
        "        if hyperparameter_grid is None:\n",
        "            hyperparameter_grid = {\n",
        "                'C': [0.1, 1.0, 10.0],\n",
        "                'solver': ['saga']\n",
        "            }\n",
        "\n",
        "        # Using elastic net penalty with l1_ratio=0.5\n",
        "        logistic_regression = LogisticRegression(multi_class='auto', penalty='elasticnet', l1_ratio=0.5)\n",
        "        grid_search = GridSearchCV(logistic_regression, hyperparameter_grid, cv=3, n_jobs=-1)\n",
        "        grid_search.fit(X_train, y_train)\n",
        "\n",
        "        # In kết quả cho mỗi lần chạy\n",
        "        results_df = pd.DataFrame(grid_search.cv_results_)\n",
        "        print(\"Results for Each Hyperparameter Combination:\")\n",
        "        print(results_df[['mean_fit_time','params', 'mean_test_score', 'std_test_score']])\n",
        "\n",
        "        self.model = grid_search.best_estimator_\n",
        "\n",
        "    def predict(self, X_test):\n",
        "        X_test = [self._extract_features(x) for x in X_test]\n",
        "        X_test = self.vectorizer.transform(X_test)\n",
        "        return self.model.predict(X_test)\n",
        "\n",
        "    def evaluate(self, X, y, set_name):\n",
        "        X = [self._extract_features(x) for x in X]\n",
        "        X = self.vectorizer.transform(X)\n",
        "        predictions = self.model.predict(X)\n",
        "\n",
        "        accuracy = accuracy_score(y, predictions)\n",
        "        precision = precision_score(y, predictions, average='weighted')\n",
        "\n",
        "        print(f\"{set_name} Set Metrics:\")\n",
        "        print(\"Accuracy:\", accuracy)\n",
        "        print(\"Precision:\", precision)\n",
        "        print(\"Classification Report:\")\n",
        "        print(classification_report(y, predictions))\n",
        "\n",
        "    def _extract_features(self, sentence):\n",
        "        features = {}\n",
        "        for i, token in enumerate(sentence.split()):\n",
        "            features[f'word_{i}'] = token\n",
        "        return features\n",
        "\n",
        "# Chia thành target và dependent\n",
        "X_train = maxent_train_data['tokenized_contents'].tolist()\n",
        "y_train = maxent_train_data['Category'].tolist()\n",
        "X_val = maxent_val_data['tokenized_contents'].tolist()\n",
        "y_val = maxent_val_data['Category'].tolist()\n",
        "\n",
        "# Tạo classifier\n",
        "maxent_classifier = MaxEntClassifier()\n",
        "\n",
        "# Train với hyperparameter tuning\n",
        "hyperparameter_grid = {\n",
        "    'C': [0.1, 1.0, 10.0],\n",
        "    'solver': ['saga']\n",
        "}\n",
        "\n",
        "maxent_classifier.train(X_train, y_train, hyperparameter_grid=hyperparameter_grid)\n",
        "\n",
        "# In parameter tốt nhất\n",
        "best_params = maxent_classifier.model.get_params()\n",
        "print(\"Best Hyperparameters:\", best_params)\n",
        "\n",
        "# Đánh giá trên tập train\n",
        "maxent_classifier.evaluate(X_train, y_train, set_name='Training')\n",
        "\n",
        "# Đánh giá trên tập test\n",
        "maxent_classifier.evaluate(X_val, y_val, set_name='Validation')"
      ]
    },
    {
      "cell_type": "markdown",
      "metadata": {
        "id": "w7q8pohtU2gd"
      },
      "source": [
        "## 3. HỌC SÂU"
      ]
    },
    {
      "cell_type": "code",
      "execution_count": null,
      "metadata": {
        "id": "VPxdFvy5WhxX"
      },
      "outputs": [],
      "source": [
        "# BỔ SUNG TIỀN XỬ LÝ\n",
        "\n",
        "# Chia thành cột tokenized_contents và cột Category\n",
        "sentences = data['tokenized_contents'].tolist()\n",
        "labels = data['Category'].tolist()\n",
        "\n",
        "# Sử dụng LabelEncoder để mã hóa nhãn\n",
        "label_encoder = LabelEncoder()\n",
        "labels_encoded = label_encoder.fit_transform(labels)\n",
        "labels_encoded\n",
        "\n",
        "# Xử lý dữ liệu văn bản\n",
        "tokenizer = Tokenizer()\n",
        "tokenizer.fit_on_texts(sentences)\n",
        "word_index = tokenizer.word_index\n",
        "vocab_size = len(word_index) + 1\n",
        "sequences = tokenizer.texts_to_sequences(sentences)\n",
        "sequences[:1]\n",
        "\n",
        "# Chia thành tập huấn luyện và tập kiểm tra\n",
        "X_train, X_test, y_train, y_test = train_test_split(sequences, labels_encoded, test_size=0.2, random_state=42)\n",
        "\n",
        "# Xử lý dữ liệu đầu vào\n",
        "max_length = max(len(seq) for seq in sequences)\n",
        "X_train = pad_sequences(X_train, maxlen=max_length)\n",
        "X_test = pad_sequences(X_test, maxlen=max_length)"
      ]
    },
    {
      "cell_type": "code",
      "execution_count": null,
      "metadata": {
        "id": "y10F3a75U36z"
      },
      "outputs": [],
      "source": [
        "# ĐỊNH NGHĨA LỚP ATTENTION\n",
        "class Attention(tf.keras.layers.Layer):\n",
        "    def __init__(self, return_sequences=False):\n",
        "        self.return_sequences = return_sequences\n",
        "        super(Attention, self).__init__()\n",
        "\n",
        "    def build(self, input_shape):\n",
        "        self.W = self.add_weight(name=\"att_weight\", shape=(input_shape[-1], 1), initializer=\"normal\")\n",
        "        self.b = self.add_weight(name=\"att_bias\", shape=(input_shape[1], 1), initializer=\"zeros\")\n",
        "\n",
        "        super(Attention, self).build(input_shape)\n",
        "\n",
        "    def call(self, x):\n",
        "        e = K.tanh(K.dot(x, self.W) + self.b)\n",
        "        a = K.softmax(e, axis=1)\n",
        "\n",
        "        if self.return_sequences:\n",
        "            return a * x\n",
        "        else:\n",
        "            return K.sum(a * x, axis=1)"
      ]
    },
    {
      "cell_type": "code",
      "execution_count": null,
      "metadata": {
        "id": "eWlErG0gXZGt"
      },
      "outputs": [],
      "source": [
        "# THỰC HIỆN GRID SEARCH\n",
        "\n",
        "# Chuẩn bị nhãn & Mô hình\n",
        "num_classes = len(label_encoder.classes_)\n",
        "one_hot_labels_train = to_categorical(y_train, num_classes=num_classes)\n",
        "one_hot_labels_test = to_categorical(y_test, num_classes=num_classes)\n",
        "\n",
        "# Chọn các siêu tham số sử dụng\n",
        "lstm_units_list = [64, 128, 256]\n",
        "optimizers_list = [Adam(), RMSprop(), SGD()]\n",
        "embedding_dim = 100\n",
        "epochs = 5\n",
        "\n",
        "# Lặp qua các tổ hợp siêu tham số\n",
        "for lstm_units in lstm_units_list:\n",
        "    for optimizer in optimizers_list:\n",
        "        print(f\"\\nTesting with LSTM units: {lstm_units}, Optimizer: {optimizer.__class__.__name__}\")\n",
        "\n",
        "        # Tạo mô hình\n",
        "        model = Sequential()\n",
        "        model.add(Embedding(vocab_size, embedding_dim, input_length=max_length))\n",
        "        model.add(Bidirectional(LSTM(lstm_units, return_sequences=True)))\n",
        "        model.add(Attention())\n",
        "        model.add(Dense(num_classes, activation='softmax'))\n",
        "\n",
        "        model.compile(loss='categorical_crossentropy', optimizer=optimizer, metrics=['accuracy'])\n",
        "\n",
        "        # Train the model\n",
        "        start_time = time.time()\n",
        "        usemodel = model.fit(X_train, one_hot_labels_train, batch_size=32, epochs=5, validation_data=(X_test, one_hot_labels_test), verbose=0)\n",
        "        end_time = time.time()\n",
        "        total_training_time = end_time - start_time\n",
        "        mean_fit_time_per_epoch = total_training_time / len(usemodel.history['loss'])\n",
        "\n",
        "        # Display results\n",
        "        print(f\"Mean Fit Time per Epoch: {mean_fit_time_per_epoch:.4f}\")\n",
        "\n",
        "        # Display loss and accuracy for each epoch\n",
        "        for epoch in range(epochs):\n",
        "            print(f\"Epoch {epoch + 1}/{epochs}\")\n",
        "            print(f\"  Train Loss: {usemodel.history['loss'][epoch]:.4f} - Train Accuracy: {usemodel.history['accuracy'][epoch]:.4f}\")\n",
        "            print(f\"  Val Loss: {usemodel.history['val_loss'][epoch]:.4f} - Val Accuracy: {usemodel.history['val_accuracy'][epoch]:.4f}\")\n",
        "\n",
        "        # Calculate and display mean values\n",
        "        mean_train_loss = np.mean(usemodel.history['loss'])\n",
        "        mean_train_accuracy = np.mean(usemodel.history['accuracy'])\n",
        "        mean_val_loss = np.mean(usemodel.history['val_loss'])\n",
        "        mean_val_accuracy = np.mean(usemodel.history['val_accuracy'])\n",
        "\n",
        "        print(f\"Mean Train Loss: {mean_train_loss:.4f} - Mean Train Accuracy: {mean_train_accuracy:.4f}\")\n",
        "        print(f\"Mean Val Loss: {mean_val_loss:.4f} - Mean Val Accuracy: {mean_val_accuracy:.4f}\")\n"
      ]
    },
    {
      "cell_type": "markdown",
      "metadata": {
        "id": "KYCU0FPhn63S"
      },
      "source": [
        "# XÂY DỰNG MÔ HÌNH CUỐI"
      ]
    },
    {
      "cell_type": "markdown",
      "metadata": {
        "id": "KHcOII8RoEQX"
      },
      "source": [
        "## 1. HỌC MÁY"
      ]
    },
    {
      "cell_type": "markdown",
      "metadata": {
        "id": "fl55r0gqvV_Q"
      },
      "source": [
        "### SVC"
      ]
    },
    {
      "cell_type": "code",
      "execution_count": null,
      "metadata": {
        "id": "wc2GtLCq8Nol"
      },
      "outputs": [],
      "source": [
        "# SVC\n",
        "svc = SVC(C=10, kernel='linear')\n",
        "\n",
        "# MEASURE MEMORY USAGE BEFORE TRAINING\n",
        "start_memory = psutil.virtual_memory().used\n",
        "\n",
        "# FIT MODEL\n",
        "start_time = time.time()\n",
        "svc.fit(X_train_tfidf, y_train)\n",
        "end_time = time.time()\n",
        "\n",
        "# MEASURE MEMORY USAGE AFTER TRAINING\n",
        "end_memory = psutil.virtual_memory().used\n",
        "\n",
        "# Calculate training time, memory usage, and accuracy\n",
        "svc_time_trained = end_time - start_time\n",
        "svc_memory_used = end_memory - start_memory\n",
        "\n",
        "# Predict and evaluate on training set\n",
        "y_train_pred = svc.predict(X_train_tfidf)\n",
        "svc_accuracy_train = accuracy_score(y_train, y_train_pred)\n",
        "\n",
        "# Predict and evaluate on validation set\n",
        "y_val_pred = svc.predict(X_val_tfidf)\n",
        "svc_accuracy_val = accuracy_score(y_val, y_val_pred)\n",
        "\n",
        "# Store results in separate variables\n",
        "svc_accuracy = {'train': svc_accuracy_train, 'val': svc_accuracy_val}"
      ]
    },
    {
      "cell_type": "markdown",
      "metadata": {
        "id": "ODHzHUmrvTcX"
      },
      "source": [
        "### GaussianNB"
      ]
    },
    {
      "cell_type": "code",
      "execution_count": null,
      "metadata": {
        "id": "TPwg0Pkc8gnI"
      },
      "outputs": [],
      "source": [
        "nb_X_train = X_train_tfidf.toarray()\n",
        "nb_X_val = X_val_tfidf.toarray()\n",
        "\n",
        "# Gaussian Naive Bayes\n",
        "gaussian_nb = GaussianNB(var_smoothing=1e-09)\n",
        "\n",
        "# MEASURE MEMORY USAGE BEFORE TRAINING\n",
        "start_memory = psutil.virtual_memory().used\n",
        "\n",
        "# FIT MODEL\n",
        "start_time = time.time()\n",
        "gaussian_nb.fit(nb_X_train, y_train)\n",
        "end_time = time.time()\n",
        "\n",
        "# MEASURE MEMORY USAGE AFTER TRAINING\n",
        "end_memory = psutil.virtual_memory().used\n",
        "\n",
        "# Calculate training time, memory usage, and accuracy\n",
        "gaussian_nb_time_trained = end_time - start_time\n",
        "gaussian_nb_memory_used = end_memory - start_memory\n",
        "\n",
        "# Predict and evaluate on training set\n",
        "y_train_pred = gaussian_nb.predict(nb_X_train)\n",
        "gaussian_nb_accuracy_train = accuracy_score(y_train, y_train_pred)\n",
        "\n",
        "# Predict and evaluate on validation set\n",
        "y_val_pred = gaussian_nb.predict(nb_X_val)\n",
        "gaussian_nb_accuracy_val = accuracy_score(y_val, y_val_pred)\n",
        "\n",
        "# Store results in separate variables\n",
        "gaussian_nb_accuracy = {'train': gaussian_nb_accuracy_train, 'val': gaussian_nb_accuracy_val}"
      ]
    },
    {
      "cell_type": "markdown",
      "metadata": {
        "id": "KBqSENmYvK7S"
      },
      "source": [
        "### DECISION TREE"
      ]
    },
    {
      "cell_type": "code",
      "execution_count": null,
      "metadata": {
        "id": "geb50dFl8rPu"
      },
      "outputs": [],
      "source": [
        "decision_tree = DecisionTreeClassifier(criterion='gini', max_depth=30, min_samples_leaf=4, min_samples_split=2)\n",
        "\n",
        "# MEASURE MEMORY USAGE BEFORE TRAINING\n",
        "start_memory = psutil.virtual_memory().used\n",
        "\n",
        "# FIT MODEL\n",
        "start_time = time.time()\n",
        "decision_tree.fit(X_train_tfidf, y_train)\n",
        "end_time = time.time()\n",
        "\n",
        "# MEASURE MEMORY USAGE AFTER TRAINING\n",
        "end_memory = psutil.virtual_memory().used\n",
        "\n",
        "# Calculate training time, memory usage, and accuracy\n",
        "decision_tree_time_trained = end_time - start_time\n",
        "decision_tree_memory_used = end_memory - start_memory\n",
        "\n",
        "# Predict and evaluate on training set\n",
        "y_train_pred = decision_tree.predict(X_train_tfidf)\n",
        "decision_tree_accuracy_train = accuracy_score(y_train, y_train_pred)\n",
        "\n",
        "# Predict and evaluate on validation set\n",
        "y_val_pred = decision_tree.predict(X_val_tfidf)\n",
        "decision_tree_accuracy_val = accuracy_score(y_val, y_val_pred)\n",
        "\n",
        "# Store results in separate variables\n",
        "decision_tree_accuracy = {'train': decision_tree_accuracy_train, 'val': decision_tree_accuracy_val}"
      ]
    },
    {
      "cell_type": "markdown",
      "metadata": {
        "id": "uMFwH_EHvkuZ"
      },
      "source": [
        "### RANDOM FOREST"
      ]
    },
    {
      "cell_type": "code",
      "execution_count": null,
      "metadata": {
        "id": "d-3VdMSGvmmt"
      },
      "outputs": [],
      "source": [
        "# Random Forest\n",
        "random_forest = RandomForestClassifier(max_depth=20, min_samples_leaf=1, min_samples_split=6, n_estimators=150)\n",
        "\n",
        "# MEASURE MEMORY USAGE BEFORE TRAINING\n",
        "start_memory = psutil.virtual_memory().used\n",
        "\n",
        "# FIT MODEL\n",
        "start_time = time.time()\n",
        "random_forest.fit(X_train_tfidf, y_train)\n",
        "end_time = time.time()\n",
        "\n",
        "# MEASURE MEMORY USAGE AFTER TRAINING\n",
        "end_memory = psutil.virtual_memory().used\n",
        "\n",
        "# Calculate training time, memory usage, and accuracy\n",
        "random_forest_time_trained = end_time - start_time\n",
        "random_forest_memory_used = end_memory - start_memory\n",
        "\n",
        "# Predict and evaluate on training set\n",
        "y_train_pred = random_forest.predict(X_train_tfidf)\n",
        "random_forest_accuracy_train = accuracy_score(y_train, y_train_pred)\n",
        "\n",
        "# Predict and evaluate on validation set\n",
        "y_val_pred = random_forest.predict(X_val_tfidf)\n",
        "random_forest_accuracy_val = accuracy_score(y_val, y_val_pred)\n",
        "\n",
        "# Store results in separate variables\n",
        "random_forest_accuracy = {'train': random_forest_accuracy_train, 'val': random_forest_accuracy_val}"
      ]
    },
    {
      "cell_type": "markdown",
      "metadata": {
        "id": "oINHtyHon_l9"
      },
      "source": [
        "## 2. MAXENT CLASSIFIER"
      ]
    },
    {
      "cell_type": "code",
      "execution_count": null,
      "metadata": {
        "colab": {
          "base_uri": "https://localhost:8080/"
        },
        "id": "JzBZ_We5L9lK",
        "outputId": "29d0a7cb-fb2e-4e45-9bc2-82fb74add2d5"
      },
      "outputs": [
        {
          "name": "stdout",
          "output_type": "stream",
          "text": [
            "Validation Set Metrics:\n",
            "Accuracy: 0.7320261437908496\n",
            "Precision: 0.7434648558094213\n",
            "Classification Report:\n",
            "                     precision    recall  f1-score   support\n",
            "\n",
            "       Bất động sản       0.80      0.75      0.77       185\n",
            "          Công nghệ       0.75      0.56      0.64       116\n",
            "Gia đình - Hôn nhân       0.58      0.67      0.63       180\n",
            "           Giáo dục       0.82      0.84      0.83       187\n",
            "          Pháp luật       0.77      0.75      0.76       194\n",
            "           Sức khỏe       0.68      0.69      0.68       194\n",
            " Thông tin tiện ích       1.00      0.71      0.83        21\n",
            "           Thế giới       0.62      0.85      0.72       183\n",
            "           Thể thao       0.85      0.89      0.87       187\n",
            "   Tin tức việc làm       0.87      0.34      0.49        38\n",
            "      Tấm Lòng Vàng       0.89      0.69      0.78       156\n",
            " Văn hóa - Giải trí       0.62      0.64      0.63       196\n",
            "               Xe +       0.77      0.74      0.75       152\n",
            "\n",
            "           accuracy                           0.73      1989\n",
            "          macro avg       0.77      0.70      0.72      1989\n",
            "       weighted avg       0.74      0.73      0.73      1989\n",
            "\n"
          ]
        }
      ],
      "source": [
        "class MaxEntClassifier:\n",
        "    def __init__(self):\n",
        "        self.model = None\n",
        "        self.vectorizer = DictVectorizer()\n",
        "\n",
        "    def train(self, X_train, y_train):\n",
        "        X_train = [self._extract_features(x) for x in X_train]\n",
        "        X_train = self.vectorizer.fit_transform(X_train)\n",
        "        self.model = LogisticRegression(C=10.0, penalty='l2', solver='liblinear')\n",
        "        self.model.fit(X_train, y_train)\n",
        "\n",
        "    def predict(self, X_test):\n",
        "        X_test = [self._extract_features(x) for x in X_test]\n",
        "        X_test = self.vectorizer.transform(X_test)\n",
        "        return self.model.predict(X_test)\n",
        "\n",
        "    def evaluate(self, X, y, set_name):\n",
        "        X = [self._extract_features(x) for x in X]\n",
        "        X = self.vectorizer.transform(X)\n",
        "        predictions = self.model.predict(X)\n",
        "\n",
        "        accuracy = accuracy_score(y, predictions)\n",
        "        precision = precision_score(y, predictions, average='weighted')\n",
        "\n",
        "        print(f\"{set_name} Set Metrics:\")\n",
        "        print(\"Accuracy:\", accuracy)\n",
        "        print(\"Precision:\", precision)\n",
        "        print(\"Classification Report:\")\n",
        "        print(classification_report(y, predictions))\n",
        "\n",
        "    def _extract_features(self, sentence):\n",
        "        features = {}\n",
        "        for i, token in enumerate(sentence.split()):\n",
        "            features[f'word_{i}'] = token\n",
        "        return features\n",
        "\n",
        "\n",
        "# MAXENT\n",
        "maxent_classifier = MaxEntClassifier()\n",
        "\n",
        "# MEASURE MEMORY USAGE BEFORE TRAINING\n",
        "start_memory = psutil.virtual_memory().used\n",
        "\n",
        "# FIT MODEL\n",
        "start_time = time.time()\n",
        "maxent_classifier.train(X_train, y_train)\n",
        "end_time = time.time()\n",
        "\n",
        "# MEASURE MEMORY USAGE AFTER TRAINING\n",
        "end_memory = psutil.virtual_memory().used\n",
        "\n",
        "# Calculate training time and memory usage\n",
        "maxent_time_trained = end_time - start_time\n",
        "maxent_memory_used = end_memory - start_memory\n",
        "\n",
        "# Evaluate on the validation set and capture accuracy\n",
        "maxent_accuracy_val = maxent_classifier.evaluate(X_val, y_val, set_name='Validation')"
      ]
    },
    {
      "cell_type": "code",
      "execution_count": null,
      "metadata": {
        "id": "5wbg02mFX-Oe"
      },
      "outputs": [],
      "source": [
        "# Predict on validation set\n",
        "y_val_pred = maxent_classifier.predict(X_val)"
      ]
    },
    {
      "cell_type": "code",
      "execution_count": null,
      "metadata": {
        "colab": {
          "base_uri": "https://localhost:8080/",
          "height": 980
        },
        "id": "yDzosATqYttF",
        "outputId": "ef1e949e-efe3-41c5-b95b-18faf53943c7"
      },
      "outputs": [
        {
          "data": {
            "image/png": "[encoded data removed]",
            "text/plain": [
              "<Figure size 800x600 with 2 Axes>"
            ]
          },
          "metadata": {},
          "output_type": "display_data"
        },
        {
          "name": "stdout",
          "output_type": "stream",
          "text": [
            "Test Set Metrics:\n",
            "Accuracy: 0.7320261437908496\n",
            "Precision: 0.7434648558094213\n",
            "Classification Report:\n",
            "                     precision    recall  f1-score   support\n",
            "\n",
            "       Bất động sản       0.80      0.75      0.77       185\n",
            "          Công nghệ       0.75      0.56      0.64       116\n",
            "Gia đình - Hôn nhân       0.58      0.67      0.63       180\n",
            "           Giáo dục       0.82      0.84      0.83       187\n",
            "          Pháp luật       0.77      0.75      0.76       194\n",
            "           Sức khỏe       0.68      0.69      0.68       194\n",
            " Thông tin tiện ích       1.00      0.71      0.83        21\n",
            "           Thế giới       0.62      0.85      0.72       183\n",
            "           Thể thao       0.85      0.89      0.87       187\n",
            "   Tin tức việc làm       0.87      0.34      0.49        38\n",
            "      Tấm Lòng Vàng       0.89      0.69      0.78       156\n",
            " Văn hóa - Giải trí       0.62      0.64      0.63       196\n",
            "               Xe +       0.77      0.74      0.75       152\n",
            "\n",
            "           accuracy                           0.73      1989\n",
            "          macro avg       0.77      0.70      0.72      1989\n",
            "       weighted avg       0.74      0.73      0.73      1989\n",
            "\n"
          ]
        }
      ],
      "source": [
        "# Draw Confusion Matrix\n",
        "conf_matrix = confusion_matrix(y_val, y_val_pred)\n",
        "plt.figure(figsize=(8, 6))\n",
        "sns.heatmap(conf_matrix, annot=True, fmt=\"d\", cmap=\"Blues\", xticklabels=maxent_classifier.model.classes_,\n",
        "            yticklabels=maxent_classifier.model.classes_)\n",
        "plt.title('Confusion Matrix - MaxEnt Classifier (Test Set)')\n",
        "plt.xlabel('Predicted Labels')\n",
        "plt.ylabel('True Labels')\n",
        "plt.show()\n",
        "\n",
        "# Print Classification Report\n",
        "maxent_classifier.evaluate(X_val, y_val, set_name='Test')"
      ]
    },
    {
      "cell_type": "code",
      "execution_count": null,
      "metadata": {
        "id": "-znZXabaOpLK"
      },
      "outputs": [],
      "source": [
        "maxent_accuracy_val = 0.7320261437908496"
      ]
    },
    {
      "cell_type": "markdown",
      "metadata": {
        "id": "4yqRolE4n9dP"
      },
      "source": [
        "## 3. HỌC SÂU - LSTM"
      ]
    },
    {
      "cell_type": "code",
      "execution_count": null,
      "metadata": {
        "colab": {
          "base_uri": "https://localhost:8080/"
        },
        "id": "H2niQ1fkndRQ",
        "outputId": "ad3a2509-86bb-44f1-c325-e801950ccf0c"
      },
      "outputs": [
        {
          "data": {
            "text/plain": [
              "array([[   0,    0,    0, ...,  201,    8,    4],\n",
              "       [   0,    0,    0, ...,  996,  708,  340],\n",
              "       [   0,    0,    0, ..., 1102,  481,    5],\n",
              "       ...,\n",
              "       [   0,    0,    0, ..., 6316, 6317, 6318],\n",
              "       [   0,    0,    0, ...,  150,  928,   39],\n",
              "       [   0,    0,    0, ...,  159, 2924, 3395]], dtype=int32)"
            ]
          },
          "execution_count": 53,
          "metadata": {},
          "output_type": "execute_result"
        }
      ],
      "source": [
        "# SPLIT DATA\n",
        "lstm_train_data = data\n",
        "sentences = lstm_train_data['tokenized_contents'].tolist()\n",
        "labels = lstm_train_data['Category'].tolist()\n",
        "\n",
        "# ENCODE DATA\n",
        "label_encoder = LabelEncoder()\n",
        "labels_encoded = label_encoder.fit_transform(labels)\n",
        "labels_encoded\n",
        "\n",
        "# CHANGE TO SEQUENCE\n",
        "tokenizer = Tokenizer()\n",
        "tokenizer.fit_on_texts(sentences)\n",
        "word_index = tokenizer.word_index\n",
        "vocab_size = len(word_index) + 1\n",
        "sequences = tokenizer.texts_to_sequences(sentences)\n",
        "sequences[:1]\n",
        "\n",
        "# SPLIT DATA\n",
        "X_train, X_test, y_train, y_test = train_test_split(sequences, labels_encoded, test_size=0.2, random_state=42)\n",
        "\n",
        "# GET MAX_LENGTH\n",
        "max_length = max(len(seq) for seq in sequences)\n",
        "X_train = pad_sequences(X_train, maxlen=max_length)\n",
        "X_test = pad_sequences(X_test, maxlen=max_length)\n",
        "X_train"
      ]
    },
    {
      "cell_type": "code",
      "execution_count": null,
      "metadata": {
        "id": "4MZwng9NndL6"
      },
      "outputs": [],
      "source": [
        "# DEFINE ATTENTION CLASS\n",
        "class Attention(tf.keras.layers.Layer):\n",
        "    def __init__(self, return_sequences=False):\n",
        "        self.return_sequences = return_sequences\n",
        "        super(Attention, self).__init__()\n",
        "\n",
        "    def build(self, input_shape):\n",
        "        self.W = self.add_weight(name=\"att_weight\", shape=(input_shape[-1], 1), initializer=\"normal\")\n",
        "        self.b = self.add_weight(name=\"att_bias\", shape=(input_shape[1], 1), initializer=\"zeros\")\n",
        "\n",
        "        super(Attention, self).build(input_shape)\n",
        "\n",
        "    def call(self, x):\n",
        "        e = K.tanh(K.dot(x, self.W) + self.b)\n",
        "        a = K.softmax(e, axis=1)\n",
        "\n",
        "        if self.return_sequences:\n",
        "            return a * x\n",
        "        else:\n",
        "            return K.sum(a * x, axis=1)"
      ]
    },
    {
      "cell_type": "code",
      "execution_count": null,
      "metadata": {
        "id": "7xPtcVx-olnV"
      },
      "outputs": [],
      "source": [
        "# PREPARE LABELS\n",
        "num_classes = len(label_encoder.classes_)\n",
        "one_hot_labels_train = to_categorical(y_train, num_classes=num_classes)\n",
        "one_hot_labels_test = to_categorical(y_test, num_classes=num_classes)\n",
        "\n",
        "# CREATE MODEL\n",
        "embedding_dim = 100\n",
        "model = Sequential()\n",
        "model.add(Embedding(vocab_size, embedding_dim, input_length=max_length))\n",
        "model.add(Bidirectional(LSTM(128, return_sequences=True)))\n",
        "model.add(Attention())\n",
        "model.add(Dense(num_classes, activation='softmax'))\n",
        "\n",
        "# COMPILE MODEL\n",
        "model.compile(loss='categorical_crossentropy', optimizer='adam', metrics=['accuracy'])"
      ]
    },
    {
      "cell_type": "code",
      "execution_count": null,
      "metadata": {
        "id": "uWSW_0KVyzwy"
      },
      "outputs": [],
      "source": [
        "# COMPILE MODEL\n",
        "model.compile(loss='categorical_crossentropy', optimizer='adam', metrics=['accuracy'])\n",
        "\n",
        "# MEASURE MEMORY USAGE BEFORE TRAINING\n",
        "start_memory = psutil.virtual_memory().used\n",
        "\n",
        "# FIT MODEL\n",
        "start_time = time.time()\n",
        "history = model.fit(X_train, one_hot_labels_train, batch_size=32, epochs=5, validation_data=(X_test, one_hot_labels_test), verbose=0)\n",
        "end_time = time.time()\n",
        "\n",
        "# MEASURE MEMORY USAGE AFTER TRAINING\n",
        "end_memory = psutil.virtual_memory().used\n",
        "\n",
        "# CALCULATE METRICS\n",
        "total_training_time = end_time - start_time\n",
        "mean_fit_time_per_epoch = total_training_time / len(history.history['loss'])\n",
        "memory_used = end_memory - start_memory\n",
        "mean_accuracy = sum(history.history['accuracy']) / len(history.history['accuracy'])"
      ]
    },
    {
      "cell_type": "code",
      "execution_count": null,
      "metadata": {
        "id": "AKk6eh6x0Dwa"
      },
      "outputs": [],
      "source": [
        "# RENAMED FOR BETTER ORGANIZATION\n",
        "lstm_time_trained = mean_fit_time_per_epoch\n",
        "lstm_memory_used = memory_used\n",
        "lstm_accuracy_val = mean_accuracy"
      ]
    },
    {
      "cell_type": "markdown",
      "metadata": {
        "id": "PiHxc_risS6D"
      },
      "source": [
        "# GRAPHING"
      ]
    },
    {
      "cell_type": "code",
      "execution_count": null,
      "metadata": {
        "id": "Hzhg_5INHhWK"
      },
      "outputs": [],
      "source": [
        "model_names = ['SVC', 'GaussianNB', 'DecisionTree', 'RandomForest', 'MaxentClassifier','LSTM']\n",
        "time_trained_values = [svc_time_trained, gaussian_nb_time_trained, decision_tree_time_trained, random_forest_time_trained, maxent_time_trained,lstm_time_trained]\n",
        "memory_used_values = [svc_memory_used, gaussian_nb_memory_used, decision_tree_memory_used, random_forest_memory_used, maxent_memory_used,lstm_memory_used]"
      ]
    },
    {
      "cell_type": "markdown",
      "metadata": {
        "id": "d8ix7lfkzhD9"
      },
      "source": [
        "## Accuracy"
      ]
    },
    {
      "cell_type": "code",
      "execution_count": null,
      "metadata": {
        "colab": {
          "base_uri": "https://localhost:8080/",
          "height": 424
        },
        "id": "S7peZebwI8PG",
        "outputId": "9532e026-0e2c-4843-8dcf-e19799f1522d"
      },
      "outputs": [
        {
          "data": {
            "image/png": "[encoded data removed]",
            "text/plain": [
              "<Figure size 1000x600 with 1 Axes>"
            ]
          },
          "metadata": {},
          "output_type": "display_data"
        }
      ],
      "source": [
        "model_names = ['SVC', 'GaussianNB', 'DecisionTree', 'RandomForest', 'MaxentClassifier','LSTM']\n",
        "accuracy_val_values = [svc_accuracy_val, gaussian_nb_accuracy_val, decision_tree_accuracy_val, random_forest_accuracy_val, maxent_accuracy_val,lstm_accuracy_val]\n",
        "\n",
        "# Plot bar graph for accuracy (validation)\n",
        "plt.figure(figsize=(10, 6))\n",
        "bars = plt.bar(model_names, accuracy_val_values)\n",
        "\n",
        "# Add labels for specific values on top of each bar with a small space\n",
        "for bar, value in zip(bars, accuracy_val_values):\n",
        "    plt.text(bar.get_x() + bar.get_width() / 2, bar.get_height() + 0.02 * max(accuracy_val_values), f'{value:.4f}', ha='center', color='black', fontsize=10)\n",
        "\n",
        "plt.title('Accuracy (Validation) for Each Model')\n",
        "plt.xlabel('Model')\n",
        "plt.ylabel('Accuracy (Validation)')\n",
        "plt.ylim(0, 1)  # Set y-axis limit to ensure accuracy values are between 0 and 1\n",
        "plt.show()"
      ]
    },
    {
      "cell_type": "markdown",
      "metadata": {
        "id": "6v8Bn-_wzmQp"
      },
      "source": [
        "## Memory Used"
      ]
    },
    {
      "cell_type": "code",
      "execution_count": null,
      "metadata": {
        "colab": {
          "base_uri": "https://localhost:8080/",
          "height": 431
        },
        "id": "evqkxYfNHe0r",
        "outputId": "71d01d99-a247-4429-a151-55a600dddf0c"
      },
      "outputs": [
        {
          "data": {
            "image/png": "[encoded data removed]",
            "text/plain": [
              "<Figure size 1000x600 with 1 Axes>"
            ]
          },
          "metadata": {},
          "output_type": "display_data"
        }
      ],
      "source": [
        "# Plot bar graph for memory used\n",
        "plt.figure(figsize=(10, 6))\n",
        "bars = plt.bar(model_names, memory_used_values)\n",
        "\n",
        "# Add labels for specific values on top of each bar with a small space\n",
        "for bar, value in zip(bars, memory_used_values):\n",
        "    plt.text(bar.get_x() + bar.get_width() / 2, bar.get_height() + 0.02 * max(memory_used_values), f'{value}', ha='center', color='black', fontsize=10)\n",
        "\n",
        "plt.title('Memory Used for Each Model')\n",
        "plt.xlabel('Model')\n",
        "plt.ylabel('Memory Used (bytes)')\n",
        "plt.show()"
      ]
    },
    {
      "cell_type": "markdown",
      "metadata": {
        "id": "qd07850pznc1"
      },
      "source": [
        "## Time Trained"
      ]
    },
    {
      "cell_type": "code",
      "execution_count": null,
      "metadata": {
        "colab": {
          "base_uri": "https://localhost:8080/",
          "height": 422
        },
        "id": "zYQqfCv4HUDR",
        "outputId": "a8970913-3445-4e06-c425-8a94b5848534"
      },
      "outputs": [
        {
          "data": {
            "image/png": "[encoded data removed]",
            "text/plain": [
              "<Figure size 1000x600 with 1 Axes>"
            ]
          },
          "metadata": {},
          "output_type": "display_data"
        }
      ],
      "source": [
        "# Plot bar graph for time trained\n",
        "plt.figure(figsize=(10, 6))\n",
        "bars = plt.bar(model_names, time_trained_values)\n",
        "\n",
        "# Add labels for specific values on top of each bar with a small space\n",
        "for bar, value in zip(bars, time_trained_values):\n",
        "    plt.text(bar.get_x() + bar.get_width() / 2, bar.get_height() + 0.02 * max(time_trained_values), f'{value:.2f}', ha='center', color='black', fontsize=10)\n",
        "\n",
        "plt.title('Time Trained for Each Model')\n",
        "plt.xlabel('Model')\n",
        "plt.ylabel('Time Trained (seconds)')\n",
        "plt.show()"
      ]
    }
  ],
  "metadata": {
    "colab": {
      "provenance": []
    },
    "kernelspec": {
      "display_name": "Python 3",
      "name": "python3"
    },
    "language_info": {
      "codemirror_mode": {
        "name": "ipython",
        "version": 3
      },
      "file_extension": ".py",
      "mimetype": "text/x-python",
      "name": "python",
      "nbconvert_exporter": "python",
      "pygments_lexer": "ipython3",
      "version": "3.11.0"
    }
  },
  "nbformat": 4,
  "nbformat_minor": 0
}
